{
 "cells": [
  {
   "cell_type": "code",
   "execution_count": 1,
   "metadata": {},
   "outputs": [
    {
     "name": "stdout",
     "output_type": "stream",
     "text": [
      "Collecting textblob\n",
      "  Downloading textblob-0.15.3-py2.py3-none-any.whl (636 kB)\n",
      "\u001b[K     |████████████████████████████████| 636 kB 5.2 MB/s eta 0:00:01\n",
      "\u001b[?25hRequirement already satisfied: nltk>=3.1 in /opt/conda/lib/python3.7/site-packages (from textblob) (3.4.4)\n",
      "Requirement already satisfied: six in /opt/conda/lib/python3.7/site-packages (from nltk>=3.1->textblob) (1.15.0)\n",
      "Installing collected packages: textblob\n",
      "Successfully installed textblob-0.15.3\n"
     ]
    }
   ],
   "source": [
    "!pip install textblob"
   ]
  },
  {
   "cell_type": "code",
   "execution_count": 2,
   "metadata": {},
   "outputs": [
    {
     "name": "stdout",
     "output_type": "stream",
     "text": [
      "Collecting lightgbm\n",
      "  Downloading lightgbm-2.3.1-py2.py3-none-manylinux1_x86_64.whl (1.2 MB)\n",
      "\u001b[K     |████████████████████████████████| 1.2 MB 4.5 MB/s eta 0:00:01\n",
      "\u001b[?25hRequirement already satisfied: numpy in /opt/conda/lib/python3.7/site-packages (from lightgbm) (1.18.5)\n",
      "Requirement already satisfied: scipy in /opt/conda/lib/python3.7/site-packages (from lightgbm) (1.5.2)\n",
      "Requirement already satisfied: scikit-learn in /opt/conda/lib/python3.7/site-packages (from lightgbm) (0.23.1)\n",
      "Requirement already satisfied: joblib>=0.11 in /opt/conda/lib/python3.7/site-packages (from scikit-learn->lightgbm) (0.16.0)\n",
      "Requirement already satisfied: threadpoolctl>=2.0.0 in /opt/conda/lib/python3.7/site-packages (from scikit-learn->lightgbm) (2.1.0)\n",
      "Installing collected packages: lightgbm\n",
      "Successfully installed lightgbm-2.3.1\n"
     ]
    }
   ],
   "source": [
    "!pip install lightgbm"
   ]
  },
  {
   "cell_type": "code",
   "execution_count": 3,
   "metadata": {},
   "outputs": [
    {
     "name": "stdout",
     "output_type": "stream",
     "text": [
      "\u001b[33mWARNING: Skipping keras as it is not installed.\u001b[0m\n"
     ]
    }
   ],
   "source": [
    "!pip uninstall keras -y"
   ]
  },
  {
   "cell_type": "code",
   "execution_count": 4,
   "metadata": {},
   "outputs": [
    {
     "name": "stdout",
     "output_type": "stream",
     "text": [
      "\u001b[33mWARNING: Skipping tensorflow as it is not installed.\u001b[0m\n"
     ]
    }
   ],
   "source": [
    "!pip uninstall tensorflow -y"
   ]
  },
  {
   "cell_type": "code",
   "execution_count": 5,
   "metadata": {},
   "outputs": [
    {
     "name": "stdout",
     "output_type": "stream",
     "text": [
      "Collecting keras==2.4.3\n",
      "  Downloading Keras-2.4.3-py2.py3-none-any.whl (36 kB)\n",
      "Requirement already satisfied: pyyaml in /opt/conda/lib/python3.7/site-packages (from keras==2.4.3) (5.3.1)\n",
      "Requirement already satisfied: scipy>=0.14 in /opt/conda/lib/python3.7/site-packages (from keras==2.4.3) (1.5.2)\n",
      "Requirement already satisfied: numpy>=1.9.1 in /opt/conda/lib/python3.7/site-packages (from keras==2.4.3) (1.18.5)\n",
      "Requirement already satisfied: h5py in /opt/conda/lib/python3.7/site-packages (from keras==2.4.3) (2.10.0)\n",
      "Requirement already satisfied: six in /opt/conda/lib/python3.7/site-packages (from h5py->keras==2.4.3) (1.15.0)\n",
      "Installing collected packages: keras\n",
      "Successfully installed keras-2.4.3\n"
     ]
    }
   ],
   "source": [
    "!pip install keras==2.4.3"
   ]
  },
  {
   "cell_type": "code",
   "execution_count": 6,
   "metadata": {},
   "outputs": [
    {
     "name": "stdout",
     "output_type": "stream",
     "text": [
      "Collecting tensorflow==2.3.0\n",
      "  Downloading tensorflow-2.3.0-cp37-cp37m-manylinux2010_x86_64.whl (320.4 MB)\n",
      "\u001b[K     |████████████████████████████████| 320.4 MB 29 kB/s /s eta 0:00:01█████████▉                 | 148.7 MB 70.3 MB/s eta 0:00:0301\n",
      "\u001b[?25hCollecting scipy==1.4.1\n",
      "  Downloading scipy-1.4.1-cp37-cp37m-manylinux1_x86_64.whl (26.1 MB)\n",
      "\u001b[K     |████████████████████████████████| 26.1 MB 77.9 MB/s eta 0:00:01�█████████████████         | 18.8 MB 77.9 MB/s eta 0:00:01\n",
      "\u001b[?25hRequirement already satisfied: protobuf>=3.9.2 in /opt/conda/lib/python3.7/site-packages (from tensorflow==2.3.0) (3.12.3)\n",
      "Collecting opt-einsum>=2.3.2\n",
      "  Downloading opt_einsum-3.3.0-py3-none-any.whl (65 kB)\n",
      "\u001b[K     |████████████████████████████████| 65 kB 4.1 MB/s  eta 0:00:01\n",
      "\u001b[?25hCollecting tensorboard<3,>=2.3.0\n",
      "  Downloading tensorboard-2.3.0-py3-none-any.whl (6.8 MB)\n",
      "\u001b[K     |████████████████████████████████| 6.8 MB 56.5 MB/s eta 0:00:01\n",
      "\u001b[?25hCollecting termcolor>=1.1.0\n",
      "  Downloading termcolor-1.1.0.tar.gz (3.9 kB)\n",
      "Collecting astunparse==1.6.3\n",
      "  Downloading astunparse-1.6.3-py2.py3-none-any.whl (12 kB)\n",
      "Collecting gast==0.3.3\n",
      "  Downloading gast-0.3.3-py2.py3-none-any.whl (9.7 kB)\n",
      "Requirement already satisfied: six>=1.12.0 in /opt/conda/lib/python3.7/site-packages (from tensorflow==2.3.0) (1.15.0)\n",
      "Requirement already satisfied: grpcio>=1.8.6 in /opt/conda/lib/python3.7/site-packages (from tensorflow==2.3.0) (1.30.0)\n",
      "Collecting absl-py>=0.7.0\n",
      "  Downloading absl_py-0.10.0-py3-none-any.whl (127 kB)\n",
      "\u001b[K     |████████████████████████████████| 127 kB 72.2 MB/s eta 0:00:01\n",
      "\u001b[?25hRequirement already satisfied: wheel>=0.26 in /opt/conda/lib/python3.7/site-packages (from tensorflow==2.3.0) (0.34.2)\n",
      "Requirement already satisfied: h5py<2.11.0,>=2.10.0 in /opt/conda/lib/python3.7/site-packages (from tensorflow==2.3.0) (2.10.0)\n",
      "Collecting google-pasta>=0.1.8\n",
      "  Downloading google_pasta-0.2.0-py3-none-any.whl (57 kB)\n",
      "\u001b[K     |████████████████████████████████| 57 kB 6.7 MB/s  eta 0:00:01\n",
      "\u001b[?25hCollecting keras-preprocessing<1.2,>=1.1.1\n",
      "  Downloading Keras_Preprocessing-1.1.2-py2.py3-none-any.whl (42 kB)\n",
      "\u001b[K     |████████████████████████████████| 42 kB 1.6 MB/s  eta 0:00:01\n",
      "\u001b[?25hRequirement already satisfied: numpy<1.19.0,>=1.16.0 in /opt/conda/lib/python3.7/site-packages (from tensorflow==2.3.0) (1.18.5)\n",
      "Requirement already satisfied: wrapt>=1.11.1 in /opt/conda/lib/python3.7/site-packages (from tensorflow==2.3.0) (1.12.1)\n",
      "Collecting tensorflow-estimator<2.4.0,>=2.3.0\n",
      "  Downloading tensorflow_estimator-2.3.0-py2.py3-none-any.whl (459 kB)\n",
      "\u001b[K     |████████████████████████████████| 459 kB 65.6 MB/s eta 0:00:01\n",
      "\u001b[?25hRequirement already satisfied: setuptools in /opt/conda/lib/python3.7/site-packages (from protobuf>=3.9.2->tensorflow==2.3.0) (49.2.0.post20200712)\n",
      "Requirement already satisfied: markdown>=2.6.8 in /opt/conda/lib/python3.7/site-packages (from tensorboard<3,>=2.3.0->tensorflow==2.3.0) (3.2.2)\n",
      "Collecting tensorboard-plugin-wit>=1.6.0\n",
      "  Downloading tensorboard_plugin_wit-1.7.0-py3-none-any.whl (779 kB)\n",
      "\u001b[K     |████████████████████████████████| 779 kB 66.2 MB/s eta 0:00:01\n",
      "\u001b[?25hRequirement already satisfied: requests<3,>=2.21.0 in /opt/conda/lib/python3.7/site-packages (from tensorboard<3,>=2.3.0->tensorflow==2.3.0) (2.24.0)\n",
      "Requirement already satisfied: google-auth<2,>=1.6.3 in /opt/conda/lib/python3.7/site-packages (from tensorboard<3,>=2.3.0->tensorflow==2.3.0) (1.20.0)\n",
      "Requirement already satisfied: google-auth-oauthlib<0.5,>=0.4.1 in /opt/conda/lib/python3.7/site-packages (from tensorboard<3,>=2.3.0->tensorflow==2.3.0) (0.4.1)\n",
      "Requirement already satisfied: werkzeug>=0.11.15 in /opt/conda/lib/python3.7/site-packages (from tensorboard<3,>=2.3.0->tensorflow==2.3.0) (1.0.1)\n",
      "Requirement already satisfied: importlib-metadata; python_version < \"3.8\" in /opt/conda/lib/python3.7/site-packages (from markdown>=2.6.8->tensorboard<3,>=2.3.0->tensorflow==2.3.0) (1.7.0)\n",
      "Requirement already satisfied: urllib3!=1.25.0,!=1.25.1,<1.26,>=1.21.1 in /opt/conda/lib/python3.7/site-packages (from requests<3,>=2.21.0->tensorboard<3,>=2.3.0->tensorflow==2.3.0) (1.25.10)\n",
      "Requirement already satisfied: idna<3,>=2.5 in /opt/conda/lib/python3.7/site-packages (from requests<3,>=2.21.0->tensorboard<3,>=2.3.0->tensorflow==2.3.0) (2.10)\n",
      "Requirement already satisfied: chardet<4,>=3.0.2 in /opt/conda/lib/python3.7/site-packages (from requests<3,>=2.21.0->tensorboard<3,>=2.3.0->tensorflow==2.3.0) (3.0.4)\n",
      "Requirement already satisfied: certifi>=2017.4.17 in /opt/conda/lib/python3.7/site-packages (from requests<3,>=2.21.0->tensorboard<3,>=2.3.0->tensorflow==2.3.0) (2020.6.20)\n",
      "Requirement already satisfied: pyasn1-modules>=0.2.1 in /opt/conda/lib/python3.7/site-packages (from google-auth<2,>=1.6.3->tensorboard<3,>=2.3.0->tensorflow==2.3.0) (0.2.7)\n",
      "Requirement already satisfied: rsa<5,>=3.1.4; python_version >= \"3.5\" in /opt/conda/lib/python3.7/site-packages (from google-auth<2,>=1.6.3->tensorboard<3,>=2.3.0->tensorflow==2.3.0) (4.6)\n",
      "Requirement already satisfied: cachetools<5.0,>=2.0.0 in /opt/conda/lib/python3.7/site-packages (from google-auth<2,>=1.6.3->tensorboard<3,>=2.3.0->tensorflow==2.3.0) (4.1.1)\n",
      "Requirement already satisfied: requests-oauthlib>=0.7.0 in /opt/conda/lib/python3.7/site-packages (from google-auth-oauthlib<0.5,>=0.4.1->tensorboard<3,>=2.3.0->tensorflow==2.3.0) (1.3.0)\n",
      "Requirement already satisfied: zipp>=0.5 in /opt/conda/lib/python3.7/site-packages (from importlib-metadata; python_version < \"3.8\"->markdown>=2.6.8->tensorboard<3,>=2.3.0->tensorflow==2.3.0) (3.1.0)\n",
      "Requirement already satisfied: pyasn1<0.5.0,>=0.4.6 in /opt/conda/lib/python3.7/site-packages (from pyasn1-modules>=0.2.1->google-auth<2,>=1.6.3->tensorboard<3,>=2.3.0->tensorflow==2.3.0) (0.4.8)\n",
      "Requirement already satisfied: oauthlib>=3.0.0 in /opt/conda/lib/python3.7/site-packages (from requests-oauthlib>=0.7.0->google-auth-oauthlib<0.5,>=0.4.1->tensorboard<3,>=2.3.0->tensorflow==2.3.0) (3.0.1)\n",
      "Building wheels for collected packages: termcolor\n",
      "  Building wheel for termcolor (setup.py) ... \u001b[?25ldone\n",
      "\u001b[?25h  Created wheel for termcolor: filename=termcolor-1.1.0-py3-none-any.whl size=4830 sha256=712ec4d3d4203cc19e44e2e05bfa0c01bc0dff77e43e29c8f01ffc0362c817c2\n",
      "  Stored in directory: /home/jupyter/.cache/pip/wheels/3f/e3/ec/8a8336ff196023622fbcb36de0c5a5c218cbb24111d1d4c7f2\n",
      "Successfully built termcolor\n",
      "Installing collected packages: scipy, opt-einsum, tensorboard-plugin-wit, absl-py, tensorboard, termcolor, astunparse, gast, google-pasta, keras-preprocessing, tensorflow-estimator, tensorflow\n",
      "  Attempting uninstall: scipy\n",
      "    Found existing installation: scipy 1.5.2\n",
      "    Uninstalling scipy-1.5.2:\n",
      "      Successfully uninstalled scipy-1.5.2\n",
      "\u001b[31mERROR: After October 2020 you may experience errors when installing or updating packages. This is because pip will change the way that it resolves dependency conflicts.\n",
      "\n",
      "We recommend you use --use-feature=2020-resolver to test your packages with the new resolver before it becomes the default.\n",
      "\n",
      "pandas-profiling 2.8.0 requires visions[type_image_path]==0.4.4, but you'll have visions 0.4.6 which is incompatible.\u001b[0m\n",
      "Successfully installed absl-py-0.10.0 astunparse-1.6.3 gast-0.3.3 google-pasta-0.2.0 keras-preprocessing-1.1.2 opt-einsum-3.3.0 scipy-1.4.1 tensorboard-2.3.0 tensorboard-plugin-wit-1.7.0 tensorflow-2.3.0 tensorflow-estimator-2.3.0 termcolor-1.1.0\n"
     ]
    }
   ],
   "source": [
    "!pip install tensorflow==2.3.0"
   ]
  },
  {
   "cell_type": "code",
   "execution_count": 7,
   "metadata": {},
   "outputs": [
    {
     "data": {
      "text/plain": [
       "'2.4.3'"
      ]
     },
     "execution_count": 7,
     "metadata": {},
     "output_type": "execute_result"
    }
   ],
   "source": [
    "import keras\n",
    "keras.__version__"
   ]
  },
  {
   "cell_type": "code",
   "execution_count": 8,
   "metadata": {
    "colab": {
     "base_uri": "https://localhost:8080/",
     "height": 70
    },
    "colab_type": "code",
    "id": "gwb0GDsgB2Ag",
    "outputId": "04bd10d4-89cc-4cea-9c4d-be73ceb7ac48"
   },
   "outputs": [
    {
     "name": "stderr",
     "output_type": "stream",
     "text": [
      "[nltk_data] Downloading package stopwords to\n",
      "[nltk_data]     /home/jupyter/nltk_data...\n",
      "[nltk_data]   Unzipping corpora/stopwords.zip.\n"
     ]
    },
    {
     "data": {
      "text/plain": [
       "True"
      ]
     },
     "execution_count": 8,
     "metadata": {},
     "output_type": "execute_result"
    }
   ],
   "source": [
    "# importing libraries\n",
    "\n",
    "import pandas as pd\n",
    "import seaborn as sns\n",
    "import matplotlib.pyplot as plt\n",
    "import numpy as np\n",
    "from textblob import TextBlob\n",
    "from nltk.corpus import stopwords \n",
    "import re\n",
    "\n",
    "import seaborn as sns\n",
    "import matplotlib.pyplot as plt\n",
    "import os\n",
    "\n",
    "\n",
    "from sklearn.feature_extraction.text import TfidfVectorizer\n",
    "from sklearn.feature_extraction.text import HashingVectorizer\n",
    "from sklearn.preprocessing import StandardScaler\n",
    "from sklearn.preprocessing import MinMaxScaler\n",
    "from scipy.sparse import coo_matrix, hstack, vstack\n",
    "from numpy import median\n",
    "\n",
    "import gc\n",
    "\n",
    "\n",
    "import lightgbm as lgb\n",
    "from sklearn.metrics import mean_squared_error\n",
    "from tqdm.notebook import tqdm\n",
    "import re\n",
    "from sklearn.model_selection import train_test_split\n",
    "\n",
    "from sklearn.linear_model import Ridge\n",
    "from sklearn.linear_model import Lasso\n",
    "\n",
    "from sklearn.metrics import mean_squared_error\n",
    "\n",
    "from keras.layers import Dense \n",
    "from keras import Sequential \n",
    "from keras import backend as K\n",
    "import keras\n",
    "import tensorflow as tf\n",
    "\n",
    "import nltk\n",
    "nltk.download('stopwords')"
   ]
  },
  {
   "cell_type": "code",
   "execution_count": 9,
   "metadata": {
    "colab": {},
    "colab_type": "code",
    "id": "7ePxtMrDCWo1"
   },
   "outputs": [
    {
     "name": "stdout",
     "output_type": "stream",
     "text": [
      "\u001b[31mERROR: After October 2020 you may experience errors when installing or updating packages. This is because pip will change the way that it resolves dependency conflicts.\n",
      "\n",
      "We recommend you use --use-feature=2020-resolver to test your packages with the new resolver before it becomes the default.\n",
      "\n",
      "pandas-profiling 2.8.0 requires visions[type_image_path]==0.4.4, but you'll have visions 0.4.6 which is incompatible.\n",
      "jupyterlab-git 0.10.1 requires nbdime<2.0.0,>=1.1.0, but you'll have nbdime 2.0.0 which is incompatible.\u001b[0m\n"
     ]
    }
   ],
   "source": [
    "!pip install -q kaggle"
   ]
  },
  {
   "cell_type": "code",
   "execution_count": 10,
   "metadata": {
    "colab": {},
    "colab_type": "code",
    "id": "kadLw8PSCdnj"
   },
   "outputs": [],
   "source": [
    "# Next, install the Kaggle API client. \n",
    "!pip install -q kaggle\n"
   ]
  },
  {
   "cell_type": "code",
   "execution_count": 11,
   "metadata": {
    "colab": {},
    "colab_type": "code",
    "id": "c0Ov3qXnCZ1K"
   },
   "outputs": [
    {
     "name": "stdout",
     "output_type": "stream",
     "text": [
      "-rw-r--r-- 1 jupyter jupyter 66 Aug 24 04:19 kaggle.json\n"
     ]
    }
   ],
   "source": [
    "# Let's make sure the kaggle.json file is present. \n",
    "!ls -lha kaggle.json\n"
   ]
  },
  {
   "cell_type": "code",
   "execution_count": 12,
   "metadata": {
    "colab": {},
    "colab_type": "code",
    "id": "l-YsSKxwChab"
   },
   "outputs": [],
   "source": [
    "# The Kaggle API client expects this file to be in ~/.kaggle, # so move it there. \n",
    "!mkdir -p ~/.kaggle \n",
    "!cp kaggle.json ~/.kaggle/ \n",
    "# This permissions change avoids a warning on Kaggle tool startup. \n",
    "!chmod 600 ~/.kaggle/kaggle.json\n"
   ]
  },
  {
   "cell_type": "code",
   "execution_count": 13,
   "metadata": {
    "colab": {},
    "colab_type": "code",
    "id": "JNDnHDtsCpT8"
   },
   "outputs": [
    {
     "name": "stdout",
     "output_type": "stream",
     "text": [
      "Downloading mercari-price-suggestion-challenge.zip to /home/jupyter\n",
      " 94%|█████████████████████████████████████▍  | 377M/403M [00:06<00:00, 27.6MB/s]\n",
      "100%|████████████████████████████████████████| 403M/403M [00:07<00:00, 60.2MB/s]\n"
     ]
    }
   ],
   "source": [
    "!kaggle competitions download -c mercari-price-suggestion-challenge"
   ]
  },
  {
   "cell_type": "code",
   "execution_count": 14,
   "metadata": {},
   "outputs": [
    {
     "name": "stdout",
     "output_type": "stream",
     "text": [
      "Archive:  mercari-price-suggestion-challenge.zip\n",
      "  inflating: sample_submission.csv.7z  \n",
      "  inflating: sample_submission_stg2.csv.zip  \n",
      "  inflating: test.tsv.7z             \n",
      "  inflating: test_stg2.tsv.zip       \n",
      "  inflating: train.tsv.7z            \n"
     ]
    }
   ],
   "source": [
    "!unzip mercari-price-suggestion-challenge.zip"
   ]
  },
  {
   "cell_type": "code",
   "execution_count": 15,
   "metadata": {
    "_cell_guid": "79c7e3d0-c299-4dcb-8224-4455121ee9b0",
    "_uuid": "d629ff2d2480ee46fbb7e2d37f6b5fab8052498a",
    "colab": {},
    "colab_type": "code",
    "id": "L5kHE-RvB2A2",
    "outputId": "a66a29e9-b42d-4e43-e331-7627f13c9cb7"
   },
   "outputs": [
    {
     "name": "stdout",
     "output_type": "stream",
     "text": [
      "Reading package lists... Done\n",
      "Building dependency tree       \n",
      "Reading state information... Done\n",
      "The following additional packages will be installed:\n",
      "  p7zip\n",
      "Suggested packages:\n",
      "  p7zip-rar\n",
      "The following NEW packages will be installed:\n",
      "  p7zip p7zip-full\n",
      "0 upgraded, 2 newly installed, 0 to remove and 0 not upgraded.\n",
      "Need to get 1,479 kB of archives.\n",
      "After this operation, 5,469 kB of additional disk space will be used.\n",
      "Get:1 http://deb.debian.org/debian stretch/main amd64 p7zip amd64 16.02+dfsg-3+deb9u1 [364 kB]\n",
      "Get:2 http://deb.debian.org/debian stretch/main amd64 p7zip-full amd64 16.02+dfsg-3+deb9u1 [1,115 kB]\n",
      "Fetched 1,479 kB in 0s (6,804 kB/s)\n",
      "Selecting previously unselected package p7zip.\n",
      "(Reading database ... 83856 files and directories currently installed.)\n",
      "Preparing to unpack .../p7zip_16.02+dfsg-3+deb9u1_amd64.deb ...\n",
      "Unpacking p7zip (16.02+dfsg-3+deb9u1) ...\n",
      "Selecting previously unselected package p7zip-full.\n",
      "Preparing to unpack .../p7zip-full_16.02+dfsg-3+deb9u1_amd64.deb ...\n",
      "Unpacking p7zip-full (16.02+dfsg-3+deb9u1) ...\n",
      "Setting up p7zip (16.02+dfsg-3+deb9u1) ...\n",
      "Processing triggers for man-db (2.7.6.1-2) ...\n",
      "Setting up p7zip-full (16.02+dfsg-3+deb9u1) ...\n"
     ]
    }
   ],
   "source": [
    "# installing package to extract 7z files.\n",
    "\n",
    "!sudo apt-get install p7zip-full -y\n"
   ]
  },
  {
   "cell_type": "code",
   "execution_count": 16,
   "metadata": {
    "colab": {},
    "colab_type": "code",
    "id": "g6ivwMf-B2A_",
    "outputId": "35b4570d-68a2-480a-9600-7e75cddb9834"
   },
   "outputs": [
    {
     "name": "stdout",
     "output_type": "stream",
     "text": [
      "\n",
      "7-Zip [64] 16.02 : Copyright (c) 1999-2016 Igor Pavlov : 2016-05-21\n",
      "p7zip Version 16.02 (locale=en_US.UTF-8,Utf16=on,HugeFiles=on,64 bits,8 CPUs Intel(R) Xeon(R) CPU @ 2.20GHz (406F0),ASM,AES-NI)\n",
      "\n",
      "Scanning the drive for archives:\n",
      "  0M Sca        1 file, 77912192 bytes (75 MiB)\n",
      "\n",
      "Extracting archive: train.tsv.7z\n",
      "--\n",
      "Path = train.tsv.7z\n",
      "Type = 7z\n",
      "Physical Size = 77912192\n",
      "Headers Size = 122\n",
      "Method = LZMA2:24\n",
      "Solid = -\n",
      "Blocks = 1\n",
      "\n",
      "      3% - train.t                7% - train.t               11% - train.t               14% - train.t               18% - train.t               22% - train.t               26% - train.t               29% - train.t               33% - train.t               37% - train.t               40% - train.t               44% - train.t               48% - train.t               52% - train.t               55% - train.t               59% - train.t               62% - train.t               67% - train.t               70% - train.t               74% - train.t               78% - train.t               81% - train.t               85% - train.t               89% - train.t               93% - train.t               96% - train.t              Everything is Ok\n",
      "\n",
      "Size:       337809843\n",
      "Compressed: 77912192\n"
     ]
    }
   ],
   "source": [
    "# extracting train file.\n",
    "!7z e train.tsv.7z -y"
   ]
  },
  {
   "cell_type": "code",
   "execution_count": 17,
   "metadata": {},
   "outputs": [
    {
     "name": "stdout",
     "output_type": "stream",
     "text": [
      "Archive:  test_stg2.tsv.zip\n",
      "  inflating: test_stg2.tsv           \n"
     ]
    }
   ],
   "source": [
    "!unzip test_stg2.tsv.zip"
   ]
  },
  {
   "cell_type": "code",
   "execution_count": 18,
   "metadata": {
    "colab": {},
    "colab_type": "code",
    "id": "QWnVDLN2B2BH",
    "outputId": "6fe1cf63-097f-459b-8f5a-c7958996c48a"
   },
   "outputs": [
    {
     "data": {
      "text/html": [
       "<div>\n",
       "<style scoped>\n",
       "    .dataframe tbody tr th:only-of-type {\n",
       "        vertical-align: middle;\n",
       "    }\n",
       "\n",
       "    .dataframe tbody tr th {\n",
       "        vertical-align: top;\n",
       "    }\n",
       "\n",
       "    .dataframe thead th {\n",
       "        text-align: right;\n",
       "    }\n",
       "</style>\n",
       "<table border=\"1\" class=\"dataframe\">\n",
       "  <thead>\n",
       "    <tr style=\"text-align: right;\">\n",
       "      <th></th>\n",
       "      <th>train_id</th>\n",
       "      <th>name</th>\n",
       "      <th>item_condition_id</th>\n",
       "      <th>category_name</th>\n",
       "      <th>brand_name</th>\n",
       "      <th>price</th>\n",
       "      <th>shipping</th>\n",
       "      <th>item_description</th>\n",
       "    </tr>\n",
       "  </thead>\n",
       "  <tbody>\n",
       "    <tr>\n",
       "      <th>0</th>\n",
       "      <td>0</td>\n",
       "      <td>MLB Cincinnati Reds T Shirt Size XL</td>\n",
       "      <td>3</td>\n",
       "      <td>Men/Tops/T-shirts</td>\n",
       "      <td>NaN</td>\n",
       "      <td>10.0</td>\n",
       "      <td>1</td>\n",
       "      <td>No description yet</td>\n",
       "    </tr>\n",
       "    <tr>\n",
       "      <th>1</th>\n",
       "      <td>1</td>\n",
       "      <td>Razer BlackWidow Chroma Keyboard</td>\n",
       "      <td>3</td>\n",
       "      <td>Electronics/Computers &amp; Tablets/Components &amp; P...</td>\n",
       "      <td>Razer</td>\n",
       "      <td>52.0</td>\n",
       "      <td>0</td>\n",
       "      <td>This keyboard is in great condition and works ...</td>\n",
       "    </tr>\n",
       "    <tr>\n",
       "      <th>2</th>\n",
       "      <td>2</td>\n",
       "      <td>AVA-VIV Blouse</td>\n",
       "      <td>1</td>\n",
       "      <td>Women/Tops &amp; Blouses/Blouse</td>\n",
       "      <td>Target</td>\n",
       "      <td>10.0</td>\n",
       "      <td>1</td>\n",
       "      <td>Adorable top with a hint of lace and a key hol...</td>\n",
       "    </tr>\n",
       "    <tr>\n",
       "      <th>3</th>\n",
       "      <td>3</td>\n",
       "      <td>Leather Horse Statues</td>\n",
       "      <td>1</td>\n",
       "      <td>Home/Home Décor/Home Décor Accents</td>\n",
       "      <td>NaN</td>\n",
       "      <td>35.0</td>\n",
       "      <td>1</td>\n",
       "      <td>New with tags. Leather horses. Retail for [rm]...</td>\n",
       "    </tr>\n",
       "    <tr>\n",
       "      <th>4</th>\n",
       "      <td>4</td>\n",
       "      <td>24K GOLD plated rose</td>\n",
       "      <td>1</td>\n",
       "      <td>Women/Jewelry/Necklaces</td>\n",
       "      <td>NaN</td>\n",
       "      <td>44.0</td>\n",
       "      <td>0</td>\n",
       "      <td>Complete with certificate of authenticity</td>\n",
       "    </tr>\n",
       "  </tbody>\n",
       "</table>\n",
       "</div>"
      ],
      "text/plain": [
       "   train_id                                 name  item_condition_id  \\\n",
       "0         0  MLB Cincinnati Reds T Shirt Size XL                  3   \n",
       "1         1     Razer BlackWidow Chroma Keyboard                  3   \n",
       "2         2                       AVA-VIV Blouse                  1   \n",
       "3         3                Leather Horse Statues                  1   \n",
       "4         4                 24K GOLD plated rose                  1   \n",
       "\n",
       "                                       category_name brand_name  price  \\\n",
       "0                                  Men/Tops/T-shirts        NaN   10.0   \n",
       "1  Electronics/Computers & Tablets/Components & P...      Razer   52.0   \n",
       "2                        Women/Tops & Blouses/Blouse     Target   10.0   \n",
       "3                 Home/Home Décor/Home Décor Accents        NaN   35.0   \n",
       "4                            Women/Jewelry/Necklaces        NaN   44.0   \n",
       "\n",
       "   shipping                                   item_description  \n",
       "0         1                                 No description yet  \n",
       "1         0  This keyboard is in great condition and works ...  \n",
       "2         1  Adorable top with a hint of lace and a key hol...  \n",
       "3         1  New with tags. Leather horses. Retail for [rm]...  \n",
       "4         0          Complete with certificate of authenticity  "
      ]
     },
     "execution_count": 18,
     "metadata": {},
     "output_type": "execute_result"
    }
   ],
   "source": [
    "# reading train file into dataframe\n",
    "\n",
    "train = pd.read_csv('train.tsv', sep = '\\t',)\n",
    "train.head()"
   ]
  },
  {
   "cell_type": "code",
   "execution_count": 19,
   "metadata": {
    "colab": {},
    "colab_type": "code",
    "id": "HIAdA4w3B2BN",
    "outputId": "fe5ce922-eecf-4367-8fe4-3e3738487632"
   },
   "outputs": [
    {
     "data": {
      "text/plain": [
       "(1482535, 8)"
      ]
     },
     "execution_count": 19,
     "metadata": {},
     "output_type": "execute_result"
    }
   ],
   "source": [
    "train.shape"
   ]
  },
  {
   "cell_type": "code",
   "execution_count": 20,
   "metadata": {},
   "outputs": [
    {
     "data": {
      "text/html": [
       "<div>\n",
       "<style scoped>\n",
       "    .dataframe tbody tr th:only-of-type {\n",
       "        vertical-align: middle;\n",
       "    }\n",
       "\n",
       "    .dataframe tbody tr th {\n",
       "        vertical-align: top;\n",
       "    }\n",
       "\n",
       "    .dataframe thead th {\n",
       "        text-align: right;\n",
       "    }\n",
       "</style>\n",
       "<table border=\"1\" class=\"dataframe\">\n",
       "  <thead>\n",
       "    <tr style=\"text-align: right;\">\n",
       "      <th></th>\n",
       "      <th>test_id</th>\n",
       "      <th>name</th>\n",
       "      <th>item_condition_id</th>\n",
       "      <th>category_name</th>\n",
       "      <th>brand_name</th>\n",
       "      <th>shipping</th>\n",
       "      <th>item_description</th>\n",
       "    </tr>\n",
       "  </thead>\n",
       "  <tbody>\n",
       "    <tr>\n",
       "      <th>0</th>\n",
       "      <td>0</td>\n",
       "      <td>Breast cancer \"I fight like a girl\" ring</td>\n",
       "      <td>1</td>\n",
       "      <td>Women/Jewelry/Rings</td>\n",
       "      <td>NaN</td>\n",
       "      <td>1</td>\n",
       "      <td>Size 7</td>\n",
       "    </tr>\n",
       "    <tr>\n",
       "      <th>1</th>\n",
       "      <td>1</td>\n",
       "      <td>25 pcs NEW 7.5\"x12\" Kraft Bubble Mailers</td>\n",
       "      <td>1</td>\n",
       "      <td>Other/Office supplies/Shipping Supplies</td>\n",
       "      <td>NaN</td>\n",
       "      <td>1</td>\n",
       "      <td>25 pcs NEW 7.5\"x12\" Kraft Bubble Mailers Lined...</td>\n",
       "    </tr>\n",
       "    <tr>\n",
       "      <th>2</th>\n",
       "      <td>2</td>\n",
       "      <td>Coach bag</td>\n",
       "      <td>1</td>\n",
       "      <td>Vintage &amp; Collectibles/Bags and Purses/Handbag</td>\n",
       "      <td>Coach</td>\n",
       "      <td>1</td>\n",
       "      <td>Brand new coach bag. Bought for [rm] at a Coac...</td>\n",
       "    </tr>\n",
       "    <tr>\n",
       "      <th>3</th>\n",
       "      <td>3</td>\n",
       "      <td>Floral Kimono</td>\n",
       "      <td>2</td>\n",
       "      <td>Women/Sweaters/Cardigan</td>\n",
       "      <td>NaN</td>\n",
       "      <td>0</td>\n",
       "      <td>-floral kimono -never worn -lightweight and pe...</td>\n",
       "    </tr>\n",
       "    <tr>\n",
       "      <th>4</th>\n",
       "      <td>4</td>\n",
       "      <td>Life after Death</td>\n",
       "      <td>3</td>\n",
       "      <td>Other/Books/Religion &amp; Spirituality</td>\n",
       "      <td>NaN</td>\n",
       "      <td>1</td>\n",
       "      <td>Rediscovering life after the loss of a loved o...</td>\n",
       "    </tr>\n",
       "  </tbody>\n",
       "</table>\n",
       "</div>"
      ],
      "text/plain": [
       "   test_id                                      name  item_condition_id  \\\n",
       "0        0  Breast cancer \"I fight like a girl\" ring                  1   \n",
       "1        1  25 pcs NEW 7.5\"x12\" Kraft Bubble Mailers                  1   \n",
       "2        2                                 Coach bag                  1   \n",
       "3        3                             Floral Kimono                  2   \n",
       "4        4                          Life after Death                  3   \n",
       "\n",
       "                                    category_name brand_name  shipping  \\\n",
       "0                             Women/Jewelry/Rings        NaN         1   \n",
       "1         Other/Office supplies/Shipping Supplies        NaN         1   \n",
       "2  Vintage & Collectibles/Bags and Purses/Handbag      Coach         1   \n",
       "3                         Women/Sweaters/Cardigan        NaN         0   \n",
       "4             Other/Books/Religion & Spirituality        NaN         1   \n",
       "\n",
       "                                    item_description  \n",
       "0                                             Size 7  \n",
       "1  25 pcs NEW 7.5\"x12\" Kraft Bubble Mailers Lined...  \n",
       "2  Brand new coach bag. Bought for [rm] at a Coac...  \n",
       "3  -floral kimono -never worn -lightweight and pe...  \n",
       "4  Rediscovering life after the loss of a loved o...  "
      ]
     },
     "execution_count": 20,
     "metadata": {},
     "output_type": "execute_result"
    }
   ],
   "source": [
    "test = pd.read_csv('test_stg2.tsv', '\\t')\n",
    "test.head()"
   ]
  },
  {
   "cell_type": "code",
   "execution_count": 21,
   "metadata": {},
   "outputs": [
    {
     "data": {
      "text/plain": [
       "(3460725, 7)"
      ]
     },
     "execution_count": 21,
     "metadata": {},
     "output_type": "execute_result"
    }
   ],
   "source": [
    "test.shape"
   ]
  },
  {
   "cell_type": "markdown",
   "metadata": {
    "colab_type": "text",
    "id": "Us9gMP6LB2BS"
   },
   "source": [
    "<h2>Data Cleaning </h2>"
   ]
  },
  {
   "cell_type": "code",
   "execution_count": 22,
   "metadata": {
    "colab": {},
    "colab_type": "code",
    "id": "dhdSm79vB2BT",
    "outputId": "b81d63ef-602d-4aa4-c137-0e443090474a"
   },
   "outputs": [
    {
     "data": {
      "text/plain": [
       "(1481661, 8)"
      ]
     },
     "execution_count": 22,
     "metadata": {},
     "output_type": "execute_result"
    }
   ],
   "source": [
    "# removing products with zero price.\n",
    "\n",
    "train = train[train['price']>0]\n",
    "train.shape"
   ]
  },
  {
   "cell_type": "code",
   "execution_count": 23,
   "metadata": {
    "colab": {},
    "colab_type": "code",
    "id": "clyytqPPB2BY"
   },
   "outputs": [],
   "source": [
    "# imputing default values for missing values.\n",
    "\n",
    "train['category_name'].fillna('none/none/none', inplace = True)\n",
    "\n",
    "train['brand_name'].fillna('blank', inplace = True)\n",
    "\n",
    "train['item_description'].fillna('No description yet', inplace = True)\n",
    "\n",
    "test['category_name'].fillna('none/none/none', inplace = True)\n",
    "\n",
    "test['brand_name'].fillna('blank', inplace = True)\n",
    "\n",
    "test['item_description'].fillna('No description yet', inplace = True)"
   ]
  },
  {
   "cell_type": "code",
   "execution_count": 24,
   "metadata": {
    "colab": {},
    "colab_type": "code",
    "id": "brzT4aSGB2Bd"
   },
   "outputs": [],
   "source": [
    "# Function to extract number from a string.\n",
    "\n",
    "# https://www.geeksforgeeks.org/find-all-the-numbers-in-a-string-using-regular-expression-in-python/\n",
    "def extract_num(a):   \n",
    "    \n",
    "    \"\"\" Takes string as input and returns first number from it\"\"\"\n",
    "    try:\n",
    "        if(type(a)==str):\n",
    "\n",
    "            return int(re.search('([0-9]+)', a).group())\n",
    "\n",
    "        else:\n",
    "            return np.nan \n",
    "    except:\n",
    "        return np.nan\n",
    "    "
   ]
  },
  {
   "cell_type": "code",
   "execution_count": 25,
   "metadata": {
    "colab": {},
    "colab_type": "code",
    "id": "A-Qj3hUmB2Bi"
   },
   "outputs": [],
   "source": [
    "# Function to expand contracted words.\n",
    "\n",
    "# https://stackoverflow.com/a/47091490/4084039 \n",
    "def decontracted(phrase): \n",
    "    \n",
    "    \"\"\" Takes string as input and expands if any of the below contractions are present.\"\"\"\n",
    "    # specific    \n",
    "    phrase = re.sub(r\"won't\", \"will not\", phrase)    \n",
    "    phrase = re.sub(r\"can\\'t\", \"can not\", phrase)    \n",
    "    # general    \n",
    "    phrase = re.sub(r\"n\\'t\", \" not\", phrase)    \n",
    "    phrase = re.sub(r\"\\'re\", \" are\", phrase)    \n",
    "    phrase = re.sub(r\"\\'s\", \" is\", phrase)    \n",
    "    phrase = re.sub(r\"\\'d\", \" would\", phrase)    \n",
    "    phrase = re.sub(r\"\\'ll\", \" will\", phrase)    \n",
    "    phrase = re.sub(r\"\\'t\", \" not\", phrase)    \n",
    "    phrase = re.sub(r\"\\'ve\", \" have\", phrase)    \n",
    "    phrase = re.sub(r\"\\'m\", \" am\", phrase)    \n",
    "    return phrase\n"
   ]
  },
  {
   "cell_type": "code",
   "execution_count": 26,
   "metadata": {},
   "outputs": [],
   "source": [
    "stopwords = set(stopwords.words('english'))\n",
    "stopwords.add('[rm]')"
   ]
  },
  {
   "cell_type": "code",
   "execution_count": 27,
   "metadata": {
    "colab": {
     "referenced_widgets": [
      "1ba0b762300f4187a57c7f84465ceec2"
     ]
    },
    "colab_type": "code",
    "id": "U5mFXK5kB2Bn",
    "outputId": "6513f00c-fcc8-415a-b903-d016f01cd83a"
   },
   "outputs": [
    {
     "data": {
      "application/vnd.jupyter.widget-view+json": {
       "model_id": "4f9f008f63ad4ab69382bfb4c6d71c76",
       "version_major": 2,
       "version_minor": 0
      },
      "text/plain": [
       "HBox(children=(FloatProgress(value=0.0, max=1481661.0), HTML(value='')))"
      ]
     },
     "metadata": {},
     "output_type": "display_data"
    },
    {
     "name": "stdout",
     "output_type": "stream",
     "text": [
      "\n"
     ]
    }
   ],
   "source": [
    "# code to remove special characters and stopwords.\n",
    "\n",
    "preprocessed_description = [] \n",
    "# tqdm is for printing the status bar \n",
    "for sentance in tqdm(train['item_description'].values):    \n",
    "    sent = decontracted(sentance)    \n",
    "    sent = sent.replace('\\\\r', ' ')    \n",
    "    sent = sent.replace('\\\\\"', ' ')    \n",
    "    sent = sent.replace('\\\\n', ' ')    \n",
    "    sent = re.sub('[^A-Za-z0-9]+', ' ', sent)      \n",
    "    sent = ' '.join(e for e in sent.split() if e.lower() not in stopwords)\n",
    "    preprocessed_description.append(sent.lower().strip())\n",
    "train['item_description'] = preprocessed_description\n",
    "\n"
   ]
  },
  {
   "cell_type": "code",
   "execution_count": 28,
   "metadata": {},
   "outputs": [
    {
     "data": {
      "application/vnd.jupyter.widget-view+json": {
       "model_id": "32ae087ec7054f10a8e65e6e4321a2e3",
       "version_major": 2,
       "version_minor": 0
      },
      "text/plain": [
       "HBox(children=(FloatProgress(value=0.0, max=3460725.0), HTML(value='')))"
      ]
     },
     "metadata": {},
     "output_type": "display_data"
    },
    {
     "name": "stdout",
     "output_type": "stream",
     "text": [
      "\n"
     ]
    }
   ],
   "source": [
    "# code to remove special characters and stopwords.\n",
    "\n",
    "\n",
    "preprocessed_description = [] \n",
    "# tqdm is for printing the status bar \n",
    "for sentance in tqdm(test['item_description'].values):    \n",
    "    sent = decontracted(sentance)    \n",
    "    sent = sent.replace('\\\\r', ' ')    \n",
    "    sent = sent.replace('\\\\\"', ' ')    \n",
    "    sent = sent.replace('\\\\n', ' ')    \n",
    "    sent = re.sub('[^A-Za-z0-9]+', ' ', sent)      \n",
    "    sent = ' '.join(e for e in sent.split() if e.lower() not in stopwords)\n",
    "    preprocessed_description.append(sent.lower().strip())\n",
    "test['item_description'] = preprocessed_description\n",
    "\n"
   ]
  },
  {
   "cell_type": "markdown",
   "metadata": {
    "colab_type": "text",
    "id": "8x8Ni60mB2Bv"
   },
   "source": [
    "<h2>Feature Extraction</h2>"
   ]
  },
  {
   "cell_type": "code",
   "execution_count": 29,
   "metadata": {
    "colab": {},
    "colab_type": "code",
    "id": "GYu0r24nB2Bw"
   },
   "outputs": [],
   "source": [
    "# Extracting new features like, number of words, length, number, has a number from item_description field.\n",
    "\n",
    "# Extracting has a description, has brand, has category from respective fields.\n",
    "\n",
    "# https://stackoverflow.com/questions/37483470/how-to-calculate-number-of-words-in-a-string-in-dataframe\n",
    "\n",
    "# https://stackoverflow.com/questions/43485469/apply-textblob-in-for-each-row-of-a-dataframe\n",
    "\n",
    "# https://stackoverflow.com/questions/29523254/python-remove-stop-words-from-pandas-dataframe\n",
    "\n",
    "train['no.words'] = train['item_description'].str.split().str.len()\n",
    "train['length'] = train['item_description'].apply(len)\n",
    "\n",
    "\n",
    "train['subjectivity'] = train['item_description'].apply(lambda word: TextBlob(word).sentiment.subjectivity)\n",
    "\n",
    "train['number'] = train['item_description'].apply(extract_num)\n",
    "train['number'].fillna(0, inplace = True)\n",
    "train['hasnum'] = train['number'].astype(np.bool)\n",
    "\n",
    "train['has_description'] = np.where(train['item_description'] == 'description yet', 0, 1)\n",
    "\n",
    "train['has_brand'] = np.where(train['brand_name'] == 'blank', 0, 1)\n",
    "train['has_category'] = np.where(train['category_name'] == 'none/none/none', 0, 1)\n",
    "train['no_missing'] = train['has_description'] & train['has_brand'] & train['has_category']\n",
    "\n",
    "train['name_length'] = train['name'].apply(len)\n",
    "\n",
    "\n",
    "test['no.words'] = test['item_description'].str.split().str.len()\n",
    "test['length'] = test['item_description'].apply(len)\n",
    "\n",
    "\n",
    "test['subjectivity'] = test['item_description'].apply(lambda word: TextBlob(word).sentiment.subjectivity)\n",
    "\n",
    "test['number'] = test['item_description'].apply(extract_num)\n",
    "test['number'].fillna(0, inplace = True)\n",
    "test['hasnum'] = test['number'].astype(np.bool)\n",
    "\n",
    "test['has_description'] = np.where(test['item_description'] == 'description yet', 0, 1)\n",
    "\n",
    "test['has_brand'] = np.where(test['brand_name'] == 'blank', 0, 1)\n",
    "test['has_category'] = np.where(test['category_name'] == 'none/none/none', 0, 1)\n",
    "test['no_missing'] = test['has_description'] & test['has_brand'] & test['has_category']\n",
    "\n",
    "test['name_length'] = test['name'].apply(len)\n"
   ]
  },
  {
   "cell_type": "code",
   "execution_count": 30,
   "metadata": {
    "colab": {},
    "colab_type": "code",
    "id": "CvcbqsZDB2B0"
   },
   "outputs": [],
   "source": [
    "# applying log1p on price column which will be our target variable.\n",
    "\n",
    "train['log1p'] = train['price'].apply(np.log1p)\n"
   ]
  },
  {
   "cell_type": "code",
   "execution_count": 31,
   "metadata": {
    "colab": {},
    "colab_type": "code",
    "id": "-l7ZvwIHB2B4"
   },
   "outputs": [],
   "source": [
    "# Creating new fields by merging existing ones.\n",
    "\n",
    "train['name_brand'] = train['name'] + \" \" + train['brand_name']\n",
    "\n",
    "train['text'] = train['item_description'] + \" \" + train['name'] + \" \" + train['category_name']\n",
    "\n",
    "\n",
    "test['name_brand'] = test['name'] + \" \" + test['brand_name']\n",
    "\n",
    "test['text'] = test['item_description'] + \" \" + test['name'] + \" \" + test['category_name']\n"
   ]
  },
  {
   "cell_type": "markdown",
   "metadata": {
    "colab_type": "text",
    "id": "YMqJXw_uB2B7"
   },
   "source": [
    "<h2>Train Test Split</h2>"
   ]
  },
  {
   "cell_type": "code",
   "execution_count": 32,
   "metadata": {
    "colab": {},
    "colab_type": "code",
    "id": "joM2RXadB2B8"
   },
   "outputs": [],
   "source": [
    "y = train['log1p'].values\n",
    "\n",
    "train = train.drop(['train_id','name','category_name', 'brand_name', 'item_description', 'price', 'log1p'], axis = 1)"
   ]
  },
  {
   "cell_type": "code",
   "execution_count": 33,
   "metadata": {
    "colab": {},
    "colab_type": "code",
    "id": "87vesqXzB2CB"
   },
   "outputs": [],
   "source": [
    "# splitting data.\n",
    "\n",
    "\n",
    "x_train, x_cv, y_train, y_cv = train_test_split(train, y, test_size=0.2, random_state=42)\n",
    "\n"
   ]
  },
  {
   "cell_type": "markdown",
   "metadata": {
    "colab_type": "text",
    "id": "3jrhpobZB2CM"
   },
   "source": [
    "<h2>Vectorization</h2>"
   ]
  },
  {
   "cell_type": "code",
   "execution_count": 34,
   "metadata": {
    "colab": {},
    "colab_type": "code",
    "id": "tSPx5APXB2CN"
   },
   "outputs": [],
   "source": [
    "# Using TFIDF to vectorize name_brand and text fields.\n",
    "\n",
    "vectorizer1 = HashingVectorizer(n_features = 80000,token_pattern='\\w+',dtype = np.float32)\n",
    "\n",
    "train_name_brand = vectorizer1.fit_transform(x_train['name_brand'])\n",
    "cv_name_brand = vectorizer1.transform(x_cv['name_brand'])\n",
    "test_name_brand = vectorizer1.transform(test['name_brand'])\n",
    "\n",
    "\n",
    "vectorizer2 = HashingVectorizer(n_features = 100000, dtype = np.float32, token_pattern='\\w+', ngram_range = (1,2))\n",
    "\n",
    "train_text = vectorizer2.fit_transform(x_train['text'])\n",
    "cv_text = vectorizer2.transform(x_cv['text'])\n",
    "test_text = vectorizer2.transform(test['text'])\n"
   ]
  },
  {
   "cell_type": "markdown",
   "metadata": {},
   "source": [
    "Summary:\n",
    "1. Hashing vectorizer is same as countvectorizer except it doesn't save the vocabulary hence requires less memory.\n",
    "2. Hashfunction takes a word as input and gives a number as output, this number acts as index of the column and we update the counts for this index whenever we encounter the same word.\n",
    "3. we cannot retrieve the word given the index number.\n",
    "4. n_features is the index range, if we select small range it leads to collisions."
   ]
  },
  {
   "cell_type": "code",
   "execution_count": 35,
   "metadata": {
    "colab": {},
    "colab_type": "code",
    "id": "ucKmph02B2CS"
   },
   "outputs": [],
   "source": [
    "# using minmaxscaler and standerscaler to vectorize remaining fields.\n",
    "\n",
    "scaler_item = MinMaxScaler()\n",
    "train_item_condition = scaler_item.fit_transform(x_train['item_condition_id'].values.reshape(-1,1))\n",
    "cv_item_condition = scaler_item.transform(x_cv['item_condition_id'].values.reshape(-1,1))\n",
    "test_item_condition = scaler_item.transform(test['item_condition_id'].values.reshape(-1,1))\n",
    "\n",
    "\n",
    "train_shipping = x_train['shipping'].values.reshape(-1,1)\n",
    "cv_shipping = x_cv['shipping'].values.reshape(-1,1)\n",
    "test_shipping = test['shipping'].values.reshape(-1,1)\n",
    "\n",
    "\n",
    "scaler = StandardScaler()\n",
    "train_no_words = scaler.fit_transform(x_train['no.words'].values.reshape(-1,1))\n",
    "cv_no_words = scaler.transform(x_cv['no.words'].values.reshape(-1,1))\n",
    "test_no_words = scaler.transform(test['no.words'].values.reshape(-1,1))\n",
    "\n",
    "\n",
    "\n",
    "scaler_len = StandardScaler()\n",
    "train_length = scaler_len.fit_transform(x_train['length'].values.reshape(-1,1))\n",
    "cv_length = scaler_len.transform(x_cv['length'].values.reshape(-1,1))\n",
    "test_length = scaler_len.transform(test['length'].values.reshape(-1,1))\n",
    "\n",
    "\n",
    "\n",
    "\n",
    "scaler_name = StandardScaler()\n",
    "train_name_length = scaler_name.fit_transform(x_train['name_length'].values.reshape(-1,1))\n",
    "cv_name_length = scaler_name.transform(x_cv['name_length'].values.reshape(-1,1))\n",
    "test_name_length = scaler_name.transform(test['name_length'].values.reshape(-1,1))\n",
    "\n",
    "\n",
    "\n",
    "scaler_sub = StandardScaler()\n",
    "train_subjectivity = scaler_sub.fit_transform(x_train['subjectivity'].values.reshape(-1,1))\n",
    "cv_subjectivity = scaler_sub.transform(x_cv['subjectivity'].values.reshape(-1,1))\n",
    "test_subjectivity = scaler_sub.transform(test['subjectivity'].values.reshape(-1,1))\n",
    "\n",
    "\n",
    "\n",
    "scaler = StandardScaler()\n",
    "train_number = scaler.fit_transform(x_train['number'].values.reshape(-1,1))\n",
    "cv_number = scaler.transform(x_cv['number'].values.reshape(-1,1))\n",
    "test_number = scaler.transform(test['number'].values.reshape(-1,1))\n",
    "\n",
    "\n",
    "\n",
    "train_hasnum = x_train['hasnum'].values.reshape(-1,1)\n",
    "cv_hasnum = x_cv['hasnum'].values.reshape(-1,1)\n",
    "test_hasnum = test['hasnum'].values.reshape(-1,1)\n",
    "\n",
    "\n",
    "\n",
    "train_has_description = x_train['has_description'].values.reshape(-1,1)\n",
    "cv_has_description = x_cv['has_description'].values.reshape(-1,1)\n",
    "test_has_description = test['has_description'].values.reshape(-1,1)\n",
    "\n",
    "\n",
    "\n",
    "train_has_brand = x_train['has_brand'].values.reshape(-1,1)\n",
    "cv_has_brand = x_cv['has_brand'].values.reshape(-1,1)\n",
    "test_has_brand = test['has_brand'].values.reshape(-1,1)\n",
    "\n",
    "\n",
    "\n",
    "train_has_category = x_train['has_category'].values.reshape(-1,1)\n",
    "cv_has_category = x_cv['has_category'].values.reshape(-1,1)\n",
    "test_has_category = test['has_category'].values.reshape(-1,1)\n",
    "\n",
    "\n",
    "\n",
    "train_no_missing = x_train['no_missing'].values.reshape(-1,1)\n",
    "cv_no_missing = x_cv['no_missing'].values.reshape(-1,1)\n",
    "test_no_missing = test['no_missing'].values.reshape(-1,1)\n"
   ]
  },
  {
   "cell_type": "code",
   "execution_count": 36,
   "metadata": {},
   "outputs": [],
   "source": [
    "x_train = hstack([train_name_brand, train_text, train_item_condition,\n",
    "        train_shipping, train_length,\n",
    "       train_name_length, train_subjectivity,\n",
    "         train_no_missing ]).tocsr()"
   ]
  },
  {
   "cell_type": "code",
   "execution_count": 37,
   "metadata": {},
   "outputs": [],
   "source": [
    "\n",
    "x_cv = hstack([cv_name_brand, cv_text, cv_item_condition,\n",
    "        cv_shipping, cv_length,\n",
    "       cv_name_length, cv_subjectivity,\n",
    "         cv_no_missing ]).tocsr()"
   ]
  },
  {
   "cell_type": "code",
   "execution_count": 38,
   "metadata": {},
   "outputs": [
    {
     "data": {
      "text/plain": [
       "3592"
      ]
     },
     "execution_count": 38,
     "metadata": {},
     "output_type": "execute_result"
    }
   ],
   "source": [
    "gc.collect()"
   ]
  },
  {
   "cell_type": "code",
   "execution_count": 39,
   "metadata": {
    "colab": {},
    "colab_type": "code",
    "id": "y6rOEcjNB2CV"
   },
   "outputs": [],
   "source": [
    "# stacking individual columns.\n",
    "\n",
    "x_test = hstack([test_name_brand, test_text, test_item_condition,\n",
    "        test_shipping, test_length,\n",
    "       test_name_length, test_subjectivity,\n",
    "         test_no_missing ]).tocsr()"
   ]
  },
  {
   "cell_type": "markdown",
   "metadata": {},
   "source": [
    "summary:\n",
    "1. Using only 4 extra features: name_length, subjectivity of item description, length of description, missing values in brand or category or description."
   ]
  },
  {
   "cell_type": "code",
   "execution_count": 40,
   "metadata": {
    "colab": {},
    "colab_type": "code",
    "id": "FWv1lmIsB2Cd",
    "outputId": "64eb730b-d0e6-4668-aabf-485644971556"
   },
   "outputs": [
    {
     "name": "stdout",
     "output_type": "stream",
     "text": [
      "(1185328, 180006)\n",
      "(296333, 180006)\n",
      "(3460725, 180006)\n"
     ]
    }
   ],
   "source": [
    "print(x_train.shape)\n",
    "print(x_cv.shape)\n",
    "print(x_test.shape)"
   ]
  },
  {
   "cell_type": "markdown",
   "metadata": {
    "colab_type": "text",
    "id": "g6rl7HYeB2Ch"
   },
   "source": [
    "<h2> Hyper paramter tuning of ridge regression</h2>"
   ]
  },
  {
   "cell_type": "code",
   "execution_count": 76,
   "metadata": {
    "colab": {
     "referenced_widgets": [
      "cc9bb5c8c0724edf94bffaf77af01f7f"
     ]
    },
    "colab_type": "code",
    "id": "Xn2gDsgnB2Ci",
    "outputId": "13aa0d30-ebb2-4613-c361-48692523fa84"
   },
   "outputs": [
    {
     "data": {
      "application/vnd.jupyter.widget-view+json": {
       "model_id": "059f3080dd2743b59b27b10e2f4a3cf3",
       "version_major": 2,
       "version_minor": 0
      },
      "text/plain": [
       "HBox(children=(FloatProgress(value=0.0, max=5.0), HTML(value='')))"
      ]
     },
     "metadata": {},
     "output_type": "display_data"
    },
    {
     "name": "stdout",
     "output_type": "stream",
     "text": [
      "\n"
     ]
    }
   ],
   "source": [
    "# training a ridge regression and finding best hyperparameter.\n",
    "\n",
    "\n",
    "\n",
    "alpha = [0.0001, 0.01, 0.1, 1, 10]\n",
    "\n",
    "train_score = []\n",
    "cv_score = []\n",
    "\n",
    "for i in tqdm(alpha):\n",
    "    \n",
    "    clf = Ridge(alpha = i)\n",
    "    \n",
    "    clf.fit(x_train, y_train)\n",
    "    y_train_ridge = clf.predict(x_train)\n",
    "    y_cv_ridge = clf.predict(x_cv)\n",
    "    \n",
    "    train_score.append(np.sqrt(mean_squared_error(y_train,y_train_ridge)))\n",
    "    cv_score.append(np.sqrt(mean_squared_error(y_cv,y_cv_ridge)))\n",
    "   "
   ]
  },
  {
   "cell_type": "code",
   "execution_count": 77,
   "metadata": {
    "colab": {},
    "colab_type": "code",
    "id": "guRa4i9PB2Cp",
    "outputId": "50db274c-48f5-4db9-bd36-dade4f3db08b"
   },
   "outputs": [
    {
     "data": {
      "image/png": "[encoded data removed]",
      "text/plain": [
       "<Figure size 432x288 with 1 Axes>"
      ]
     },
     "metadata": {
      "needs_background": "light"
     },
     "output_type": "display_data"
    }
   ],
   "source": [
    "plt.plot(alpha,train_score,label=\"train_error\")\n",
    "plt.scatter(alpha,train_score)\n",
    "plt.plot(alpha,cv_score,label='cv_error')\n",
    "plt.scatter(alpha,cv_score)\n",
    "plt.title(\"Train error vs CV error\")\n",
    "plt.xlabel(\"alpha\")\n",
    "plt.ylabel(\"Error\")\n",
    "plt.grid()\n",
    "plt.legend()\n",
    "plt.show()"
   ]
  },
  {
   "cell_type": "code",
   "execution_count": 78,
   "metadata": {
    "colab": {},
    "colab_type": "code",
    "id": "PKqTHE_NB2Cu",
    "outputId": "48bde318-631a-4160-bb1b-a9162bd8fb6d"
   },
   "outputs": [
    {
     "name": "stdout",
     "output_type": "stream",
     "text": [
      "best alpha is: 1\n"
     ]
    }
   ],
   "source": [
    "# Finding alpha with min cv_score\n",
    "\n",
    "print('best alpha is:',alpha[cv_score.index(min(cv_score))])"
   ]
  },
  {
   "cell_type": "markdown",
   "metadata": {},
   "source": [
    "<h2> Retraining ridge regression with best alpha </h2>"
   ]
  },
  {
   "cell_type": "code",
   "execution_count": 79,
   "metadata": {},
   "outputs": [],
   "source": [
    "clf_ridge = Ridge(alpha = 1)\n",
    "\n",
    "clf_ridge.fit(x_train, y_train)\n",
    "y_train_ridge = clf_ridge.predict(x_train)\n",
    "y_cv_ridge = clf_ridge.predict(x_cv)\n",
    "y_test_ridge = clf_ridge.predict(x_test)"
   ]
  },
  {
   "cell_type": "code",
   "execution_count": 80,
   "metadata": {},
   "outputs": [
    {
     "name": "stdout",
     "output_type": "stream",
     "text": [
      "best ridge regression score:\n",
      "Train_RMSLE: 0.42068412548047696\n",
      "CV_RMSLE:  0.4616831502162845\n"
     ]
    }
   ],
   "source": [
    "print(\"best ridge regression score:\")\n",
    "print(\"Train_RMSLE:\",np.sqrt(mean_squared_error(y_train,y_train_ridge)))\n",
    "print(\"CV_RMSLE: \",np.sqrt(mean_squared_error(y_cv,y_cv_ridge)))\n"
   ]
  },
  {
   "cell_type": "markdown",
   "metadata": {},
   "source": [
    "summary:\n",
    "1. we got CV RMSLE as 0.46 for alpha = 1 which is a good score for a simple linear model."
   ]
  },
  {
   "cell_type": "markdown",
   "metadata": {
    "colab_type": "text",
    "id": "Gx7-nQ0UB2Cy"
   },
   "source": [
    "<h2> Hyperparameter Tuning of lgb regressor</h2>"
   ]
  },
  {
   "cell_type": "code",
   "execution_count": 41,
   "metadata": {
    "colab": {
     "referenced_widgets": [
      "f6801bafe989499f90ecc14a4a45295a"
     ]
    },
    "colab_type": "code",
    "id": "ZuaoprpPB2Cy",
    "outputId": "f3418366-59c4-447f-805c-3f0c62a1bc7b"
   },
   "outputs": [
    {
     "data": {
      "application/vnd.jupyter.widget-view+json": {
       "model_id": "5f0189f597df4177ba63901305afc2c0",
       "version_major": 2,
       "version_minor": 0
      },
      "text/plain": [
       "HBox(children=(FloatProgress(value=0.0, max=3.0), HTML(value='')))"
      ]
     },
     "metadata": {},
     "output_type": "display_data"
    },
    {
     "name": "stdout",
     "output_type": "stream",
     "text": [
      "\n"
     ]
    }
   ],
   "source": [
    "# Training lgb and finding best hyperparameter.\n",
    "\n",
    "params = {\n",
    "        'learning_rate': 0.75,\n",
    "        'application': 'regression',\n",
    "        'verbosity': -1,\n",
    "        'metric': 'RMSE',\n",
    "    }\n",
    "\n",
    "train_score = []\n",
    "cv_score = []\n",
    "\n",
    "\n",
    "num_leaves = [25,75,150]\n",
    "max_depth = [5,8,12,-1]\n",
    "\n",
    "d_train = lgb.Dataset(x_train, label=y_train)\n",
    "\n",
    "\n",
    "\n",
    "for i in tqdm(num_leaves):\n",
    "    for j in max_depth:\n",
    "    \n",
    "        params['max_depth'] = j\n",
    "        params['num_leaves'] = i\n",
    "        \n",
    "        clf = lgb.train(params,d_train)\n",
    "\n",
    "\n",
    "        y_train_lgb = clf.predict(x_train)\n",
    "        y_cv_lgb = clf.predict(x_cv)\n",
    "\n",
    "        train_score.append(np.sqrt(mean_squared_error(y_train,y_train_lgb)))\n",
    "        cv_score.append(np.sqrt(mean_squared_error(y_cv,y_cv_lgb)))\n",
    "\n",
    "\n"
   ]
  },
  {
   "cell_type": "code",
   "execution_count": 42,
   "metadata": {
    "colab": {
     "referenced_widgets": [
      "6fbea8939cc54b44979c04acb76251de"
     ]
    },
    "colab_type": "code",
    "id": "N3fCzSO5B2C2",
    "outputId": "43a86069-c1c8-42a4-ed42-e098c037c311"
   },
   "outputs": [
    {
     "data": {
      "application/vnd.jupyter.widget-view+json": {
       "model_id": "c2270ae257b54a58902d56095df84a37",
       "version_major": 2,
       "version_minor": 0
      },
      "text/plain": [
       "HBox(children=(FloatProgress(value=0.0, max=3.0), HTML(value='')))"
      ]
     },
     "metadata": {},
     "output_type": "display_data"
    },
    {
     "name": "stdout",
     "output_type": "stream",
     "text": [
      "\n"
     ]
    }
   ],
   "source": [
    "a = []\n",
    "b = []\n",
    "\n",
    "for i in tqdm(num_leaves):\n",
    "    for j in max_depth:\n",
    "        \n",
    "        a.append(i)\n",
    "        b.append(j)"
   ]
  },
  {
   "cell_type": "code",
   "execution_count": 43,
   "metadata": {
    "colab": {},
    "colab_type": "code",
    "id": "Csf_TbgsB2C5",
    "outputId": "145cf8bf-ad18-466d-f39c-6e7f5b89afcb"
   },
   "outputs": [
    {
     "data": {
      "image/png": "[encoded data removed]",
      "text/plain": [
       "<Figure size 720x360 with 4 Axes>"
      ]
     },
     "metadata": {
      "needs_background": "light"
     },
     "output_type": "display_data"
    }
   ],
   "source": [
    "# Heatmap of train and cv error. \n",
    " \n",
    "# https://stackoverflow.com/questions/33942700/plotting-a-heat-map-from-three-lists-x-y-intensity \n",
    "x=np.unique(b)\n",
    "y=np.unique(a) \n",
    " \n",
    "Z=np.array(train_score).reshape(len(y),len(x)) \n",
    "fig, ax = plt.subplots(figsize = (10,5), nrows = 1, ncols = 2) \n",
    "fig.tight_layout(pad=5.0) \n",
    " \n",
    "sns.heatmap(Z,xticklabels=max_depth, yticklabels = num_leaves, annot = True, ax=ax[0]) \n",
    "ax[0].set_xlabel('max_depth')\n",
    "ax[0].set_ylabel('num_leaves')\n",
    "ax[0].set_title('train_score')\n",
    "Z=np.array(cv_score).reshape(len(y),len(x)) \n",
    " \n",
    "sns.heatmap(Z,xticklabels=max_depth, yticklabels = num_leaves, annot = True, ax=ax[1]) \n",
    "ax[1].set_xlabel('max_depth')\n",
    "ax[1].set_ylabel('num_leaves')\n",
    "ax[1].set_title('cv_score')\n",
    "plt.show() "
   ]
  },
  {
   "cell_type": "code",
   "execution_count": 44,
   "metadata": {
    "colab": {},
    "colab_type": "code",
    "id": "lO6l9-ZUB2C8",
    "outputId": "975f1492-fc72-493e-bcf8-e2df439d91dd"
   },
   "outputs": [
    {
     "name": "stdout",
     "output_type": "stream",
     "text": [
      "From the above graphs best parameters for lgb are:\n",
      "max_depth: -1\n",
      "num_leaves: 150\n"
     ]
    }
   ],
   "source": [
    "print(\"From the above graphs best parameters for lgb are:\")\n",
    "print('max_depth:', -1)\n",
    "print('num_leaves:', 150)"
   ]
  },
  {
   "cell_type": "markdown",
   "metadata": {},
   "source": [
    "<h2> Retraining Lightgbm with best hyperparameters</h2>"
   ]
  },
  {
   "cell_type": "code",
   "execution_count": null,
   "metadata": {},
   "outputs": [],
   "source": [
    "# training lgb with best hyperparameter.\n",
    "\n",
    "params['max_depth'] = -1\n",
    "params['num_leaves'] = 150\n",
    "params['learning_rate'] = 0.75\n",
    "\n",
    "clf_lgb = lgb.train(params,d_train)"
   ]
  },
  {
   "cell_type": "code",
   "execution_count": 53,
   "metadata": {},
   "outputs": [],
   "source": [
    "y_train_lgb = clf_lgb.predict(x_train)\n",
    "y_cv_lgb = clf_lgb.predict(x_cv)\n",
    "y_test_lgb = clf_lgb.predict(x_test)"
   ]
  },
  {
   "cell_type": "code",
   "execution_count": 61,
   "metadata": {},
   "outputs": [
    {
     "name": "stdout",
     "output_type": "stream",
     "text": [
      "best lightgbm score:\n",
      "Train_RMSLE: 0.42328128949916954\n",
      "CV_RMSLE:  0.4661464510424681\n"
     ]
    }
   ],
   "source": [
    "print(\"best lightgbm score:\")\n",
    "print(\"Train_RMSLE:\",np.sqrt(mean_squared_error(y_train,y_train_lgb)))\n",
    "print(\"CV_RMSLE: \",np.sqrt(mean_squared_error(y_cv,y_cv_lgb)))\n"
   ]
  },
  {
   "cell_type": "markdown",
   "metadata": {},
   "source": [
    "summary:\n",
    "1. we got cv RMSLE as 0.46 for max_depth = -1 and num_leaves = 150.\n",
    "2. we used two for loops instead of gridsearchcv to avoid data leakage.\n"
   ]
  },
  {
   "cell_type": "markdown",
   "metadata": {
    "colab_type": "text",
    "id": "HmrD851YB2DB"
   },
   "source": [
    "<h2> Training MLP </h2>"
   ]
  },
  {
   "cell_type": "code",
   "execution_count": 62,
   "metadata": {
    "colab": {},
    "colab_type": "code",
    "id": "eXK9gtnYB2DD"
   },
   "outputs": [],
   "source": [
    "# custom loss metric root mean square error.\n",
    "# https://stackoverflow.com/questions/43855162/rmse-rmsle-loss-function-in-keras\n",
    "\n",
    "def root_mean_squared_error(y_true, y_pred):\n",
    "        return K.sqrt(K.mean(K.square(y_pred - y_true))) \n",
    "    "
   ]
  },
  {
   "cell_type": "code",
   "execution_count": 63,
   "metadata": {
    "colab": {},
    "colab_type": "code",
    "id": "pnXMGAbsB2DH"
   },
   "outputs": [],
   "source": [
    "from keras.callbacks import ModelCheckpoint\n",
    "filepath = \"model1.h5\" \n",
    "checkpoint1 = ModelCheckpoint(filepath, monitor='val_loss', verbose=1, save_best_only=True, mode='min')\n"
   ]
  },
  {
   "cell_type": "code",
   "execution_count": 64,
   "metadata": {
    "colab": {},
    "colab_type": "code",
    "id": "sGiZXwzRB2DM"
   },
   "outputs": [],
   "source": [
    "# Building MLP.\n",
    "\n",
    "# https://www.kaggle.com/lopuhin/mercari-golf-0-3875-cv-in-75-loc-1900-s \n",
    "model_in = keras.Input(shape=(x_train.shape[1],),dtype = 'float32', sparse=True )\n",
    "out = Dense(256, activation='relu')(model_in)\n",
    "out = Dense(128, activation='relu')(out)\n",
    "out = Dense(64, activation='relu')(out)\n",
    "out = Dense(1)(out)\n",
    "model = keras.Model(model_in, out)\n",
    "model.compile(loss = root_mean_squared_error, optimizer = 'adam',)"
   ]
  },
  {
   "cell_type": "code",
   "execution_count": 65,
   "metadata": {},
   "outputs": [
    {
     "name": "stdout",
     "output_type": "stream",
     "text": [
      "Epoch 1/5\n",
      "1158/1158 [==============================] - ETA: 0s - loss: 0.5079\n",
      "Epoch 00001: val_loss improved from inf to 0.43373, saving model to model1.h5\n",
      "1158/1158 [==============================] - 471s 407ms/step - loss: 0.5079 - val_loss: 0.4337\n",
      "Epoch 2/5\n",
      "1158/1158 [==============================] - ETA: 0s - loss: 0.3743\n",
      "Epoch 00002: val_loss improved from 0.43373 to 0.42678, saving model to model1.h5\n",
      "1158/1158 [==============================] - 466s 402ms/step - loss: 0.3743 - val_loss: 0.4268\n",
      "Epoch 3/5\n",
      "1158/1158 [==============================] - ETA: 0s - loss: 0.2963\n",
      "Epoch 00003: val_loss did not improve from 0.42678\n",
      "1158/1158 [==============================] - 463s 400ms/step - loss: 0.2963 - val_loss: 0.4338\n",
      "Epoch 4/5\n",
      "1158/1158 [==============================] - ETA: 0s - loss: 0.2385\n",
      "Epoch 00004: val_loss did not improve from 0.42678\n",
      "1158/1158 [==============================] - 458s 395ms/step - loss: 0.2385 - val_loss: 0.4388\n",
      "Epoch 5/5\n",
      "1158/1158 [==============================] - ETA: 0s - loss: 0.1988\n",
      "Epoch 00005: val_loss did not improve from 0.42678\n",
      "1158/1158 [==============================] - 459s 396ms/step - loss: 0.1988 - val_loss: 0.4417\n"
     ]
    }
   ],
   "source": [
    "# dropout\n",
    "history =  model.fit(x_train, y_train, validation_data = (x_cv, y_cv), batch_size = 1024, epochs = 5, callbacks= [checkpoint1], shuffle =True)"
   ]
  },
  {
   "cell_type": "markdown",
   "metadata": {},
   "source": [
    "<h2> Storing best MLP model predictions </h2>"
   ]
  },
  {
   "cell_type": "code",
   "execution_count": 66,
   "metadata": {},
   "outputs": [],
   "source": [
    "# predictions of first MLP.\n",
    "# https://stackoverflow.com/questions/51700351/valueerror-unknown-metric-function-when-using-custom -metric-in-keras \n",
    "# https://github.com/tensorflow/tensorflow/issues/32348\n",
    "from keras.models import load_model \n",
    "\n",
    "model_mlp = load_model(\"model1.h5\",compile= False)\n",
    "\n",
    "y_train_mlp = model_mlp.predict(x_train)\n",
    "y_cv_mlp = model_mlp.predict(x_cv)\n",
    "y_test_mlp = model_mlp.predict(x_test)"
   ]
  },
  {
   "cell_type": "code",
   "execution_count": 67,
   "metadata": {},
   "outputs": [
    {
     "name": "stdout",
     "output_type": "stream",
     "text": [
      "best MLP score:\n",
      "Train_RMSLE: 0.28977242660267283\n",
      "CV_RMSLE:  0.4269801874128806\n"
     ]
    }
   ],
   "source": [
    "print(\"best MLP score:\")\n",
    "print(\"Train_RMSLE:\",np.sqrt(mean_squared_error(y_train,y_train_mlp)))\n",
    "print(\"CV_RMSLE: \",np.sqrt(mean_squared_error(y_cv,y_cv_mlp)))\n"
   ]
  },
  {
   "cell_type": "markdown",
   "metadata": {
    "colab_type": "text",
    "id": "TgIH9RXVB2DW"
   },
   "source": [
    "summary:\n",
    "1. Above network architecture is based on the mentioned link. \n",
    "2. Number of neurons in each layer is obtained through brute force.\n",
    "3. model checkpoint callback is used to save the best model."
   ]
  },
  {
   "cell_type": "markdown",
   "metadata": {
    "colab_type": "text",
    "id": "QMuFh3EOB2DX"
   },
   "source": [
    "<h2> Training another MLP on binary format dataset</h2>"
   ]
  },
  {
   "cell_type": "code",
   "execution_count": 68,
   "metadata": {
    "colab": {},
    "colab_type": "code",
    "id": "KtlBHoIhB2DY"
   },
   "outputs": [],
   "source": [
    "filepath = \"model2.h5\" \n",
    "checkpoint2 = ModelCheckpoint(filepath, monitor='val_loss', verbose=1, save_best_only=True, mode='min')\n"
   ]
  },
  {
   "cell_type": "code",
   "execution_count": 69,
   "metadata": {
    "colab": {},
    "colab_type": "code",
    "id": "JZJQlvFlB2Dd"
   },
   "outputs": [],
   "source": [
    "# building another model.\n",
    "model_in = keras.Input(shape=(x_train.shape[1],), sparse=True )\n",
    "out = Dense(256, activation='relu')(model_in)\n",
    "out = Dense(128, activation='relu')(out)\n",
    "out = Dense(64, activation='relu')(out)\n",
    "out = Dense(1)(out)\n",
    "model2 = keras.Model(model_in, out)\n",
    "\n",
    "model2.compile(loss = root_mean_squared_error, optimizer = 'adam',)"
   ]
  },
  {
   "cell_type": "code",
   "execution_count": 70,
   "metadata": {
    "colab": {},
    "colab_type": "code",
    "id": "S_rmVp-FB2Di"
   },
   "outputs": [],
   "source": [
    "# creating a new dataset by turning every value into 1 or 0.\n",
    "\n",
    "x_train_b = x_train.astype(np.bool)\n",
    "x_cv_b = x_cv.astype(np.bool)\n",
    "x_test_b = x_test.astype(np.bool)"
   ]
  },
  {
   "cell_type": "code",
   "execution_count": 71,
   "metadata": {
    "colab": {},
    "colab_type": "code",
    "id": "JnuISik3B2Dm",
    "outputId": "bba5a25c-37f9-4b8d-8d1d-d5876f92459b"
   },
   "outputs": [
    {
     "name": "stdout",
     "output_type": "stream",
     "text": [
      "Epoch 1/5\n",
      "1158/1158 [==============================] - ETA: 0s - loss: 0.4992\n",
      "Epoch 00001: val_loss improved from inf to 0.43661, saving model to model2.h5\n",
      "1158/1158 [==============================] - 461s 398ms/step - loss: 0.4992 - val_loss: 0.4366\n",
      "Epoch 2/5\n",
      "1158/1158 [==============================] - ETA: 0s - loss: 0.3632\n",
      "Epoch 00002: val_loss improved from 0.43661 to 0.43296, saving model to model2.h5\n",
      "1158/1158 [==============================] - 459s 396ms/step - loss: 0.3632 - val_loss: 0.4330\n",
      "Epoch 3/5\n",
      "1158/1158 [==============================] - ETA: 0s - loss: 0.2785\n",
      "Epoch 00003: val_loss did not improve from 0.43296\n",
      "1158/1158 [==============================] - 451s 389ms/step - loss: 0.2785 - val_loss: 0.4377\n",
      "Epoch 4/5\n",
      "1158/1158 [==============================] - ETA: 0s - loss: 0.2266\n",
      "Epoch 00004: val_loss did not improve from 0.43296\n",
      "1158/1158 [==============================] - 452s 391ms/step - loss: 0.2266 - val_loss: 0.4400\n",
      "Epoch 5/5\n",
      "1158/1158 [==============================] - ETA: 0s - loss: 0.1938\n",
      "Epoch 00005: val_loss did not improve from 0.43296\n",
      "1158/1158 [==============================] - 453s 391ms/step - loss: 0.1938 - val_loss: 0.4425\n"
     ]
    }
   ],
   "source": [
    "# training the second model.\n",
    "history2 = model2.fit(x_train_b, y_train, validation_data = (x_cv_b, y_cv), batch_size = 1024, epochs = 5,callbacks= [checkpoint2])"
   ]
  },
  {
   "cell_type": "markdown",
   "metadata": {},
   "source": [
    "<h2> storing best MLP model predictions on binary dataset </h2>"
   ]
  },
  {
   "cell_type": "code",
   "execution_count": 72,
   "metadata": {},
   "outputs": [],
   "source": [
    "# prediction of second MLP.\n",
    "model_mlp_b = load_model(\"model2.h5\", compile= False)\n",
    "\n",
    "y_train_mlp_b = model_mlp_b.predict(x_train_b)\n",
    "\n",
    "y_cv_mlp_b = model_mlp_b.predict(x_cv_b)\n",
    "y_test_mlp_b = model_mlp_b.predict(x_test_b)"
   ]
  },
  {
   "cell_type": "code",
   "execution_count": 73,
   "metadata": {},
   "outputs": [
    {
     "name": "stdout",
     "output_type": "stream",
     "text": [
      "best MLP score:\n",
      "Train_RMSLE: 0.2692907290058947\n",
      "CV_RMSLE:  0.43317586145336007\n"
     ]
    }
   ],
   "source": [
    "print(\"best MLP score:\")\n",
    "print(\"Train_RMSLE:\",np.sqrt(mean_squared_error(y_train,y_train_mlp_b)))\n",
    "print(\"CV_RMSLE: \",np.sqrt(mean_squared_error(y_cv,y_cv_mlp_b)))\n"
   ]
  },
  {
   "cell_type": "markdown",
   "metadata": {
    "colab_type": "text",
    "id": "bXDaXFh3B2Dr"
   },
   "source": [
    "summary:\n",
    "1. Above network architecture is based on the mentioned link. \n",
    "2. Number of neurons in each layer is obtained through brute force.\n",
    "3. model checkpoint callback is used to save the best model.\n",
    "4. Idea of using a binary dataset is from the winner's solution."
   ]
  },
  {
   "cell_type": "markdown",
   "metadata": {},
   "source": [
    "<h2> Creating a new dataset from predictions</h2>"
   ]
  },
  {
   "cell_type": "code",
   "execution_count": 81,
   "metadata": {
    "colab": {},
    "colab_type": "code",
    "id": "WAKJarPeB2EK"
   },
   "outputs": [],
   "source": [
    "# creating new dataset of individual model predictions.\n",
    "\n",
    "df_train = pd.DataFrame(zip(y_train_mlp, y_train_ridge, y_train_lgb, y_train_mlp_b))\n",
    "df_cv = pd.DataFrame(zip(y_cv_mlp, y_cv_ridge, y_cv_lgb,y_cv_mlp_b))\n",
    "df_test = pd.DataFrame(zip(y_test_mlp, y_test_ridge, y_test_lgb,y_test_mlp_b))"
   ]
  },
  {
   "cell_type": "markdown",
   "metadata": {
    "colab_type": "text",
    "id": "f1DsBmLXB2EQ"
   },
   "source": [
    "<h2> Tuning a lasso regression to combine these predictions </h2>"
   ]
  },
  {
   "cell_type": "code",
   "execution_count": 82,
   "metadata": {
    "colab": {
     "referenced_widgets": [
      "ccbb150cbf5745e9a20f02bc82ba0842"
     ]
    },
    "colab_type": "code",
    "id": "8zWBRs4CB2ER",
    "outputId": "be4e8fad-0361-4dc4-e3df-f04b567ec3ef"
   },
   "outputs": [
    {
     "data": {
      "application/vnd.jupyter.widget-view+json": {
       "model_id": "0acc5a8e3cf54a7b9e08426510aab8e8",
       "version_major": 2,
       "version_minor": 0
      },
      "text/plain": [
       "HBox(children=(FloatProgress(value=0.0, max=6.0), HTML(value='')))"
      ]
     },
     "metadata": {},
     "output_type": "display_data"
    },
    {
     "name": "stdout",
     "output_type": "stream",
     "text": [
      "\n"
     ]
    }
   ],
   "source": [
    "# Training a lasso regression to find weights to combine these predictions.\n",
    "alpha = [0.0001,0.001,0.01,0.1,1,10]\n",
    "train_score = []\n",
    "cv_score = []\n",
    "for i in tqdm(alpha):\n",
    "    clf = Lasso(alpha = i)\n",
    "\n",
    "    clf.fit(df_train, y_train)\n",
    "\n",
    "    y_train_lasso = clf.predict(df_train)\n",
    "    y_cv_lasso = clf.predict(df_cv)\n",
    "    \n",
    "    train_score.append(np.sqrt(mean_squared_error(y_train,y_train_lasso)))\n",
    "    cv_score.append(np.sqrt(mean_squared_error(y_cv,y_cv_lasso)))\n",
    "   \n"
   ]
  },
  {
   "cell_type": "code",
   "execution_count": 83,
   "metadata": {
    "colab": {},
    "colab_type": "code",
    "id": "C26b0SPWB2EX",
    "outputId": "62f8f064-0df9-480e-f57c-1d0541a5495b"
   },
   "outputs": [
    {
     "data": {
      "image/png": "[encoded data removed]",
      "text/plain": [
       "<Figure size 432x288 with 1 Axes>"
      ]
     },
     "metadata": {
      "needs_background": "light"
     },
     "output_type": "display_data"
    }
   ],
   "source": [
    "plt.plot(alpha,train_score,label=\"train_error\")\n",
    "plt.scatter(alpha,train_score)\n",
    "plt.plot(alpha,cv_score,label='cv_error')\n",
    "plt.scatter(alpha,cv_score)\n",
    "plt.title(\"Train error vs CV error\")\n",
    "plt.xlabel(\"alpha\")\n",
    "plt.ylabel(\"Error\")\n",
    "plt.grid()\n",
    "plt.legend()\n",
    "plt.show()"
   ]
  },
  {
   "cell_type": "code",
   "execution_count": 84,
   "metadata": {
    "colab": {},
    "colab_type": "code",
    "id": "u6CIe4EYB2Ed",
    "outputId": "f01ed5ab-a2de-4013-dafb-39b09df1214a"
   },
   "outputs": [
    {
     "name": "stdout",
     "output_type": "stream",
     "text": [
      "best alpha is 0.01\n"
     ]
    }
   ],
   "source": [
    "print(\"best alpha is\", alpha[cv_score.index(min(cv_score))])"
   ]
  },
  {
   "cell_type": "markdown",
   "metadata": {
    "colab_type": "text",
    "id": "6ze1vVxDB2El"
   },
   "source": [
    "<h2> Retraining lasso regression with best hyperparameter</h2>"
   ]
  },
  {
   "cell_type": "code",
   "execution_count": 85,
   "metadata": {
    "colab": {},
    "colab_type": "code",
    "id": "joPptTcsB2El"
   },
   "outputs": [],
   "source": [
    "# Lasso ensemble.\n",
    "\n",
    "clf = Lasso(alpha = 0.01)\n",
    "\n",
    "clf.fit(df_train, y_train)\n",
    "y_train_pred = clf.predict(df_train)\n",
    "y_cv_pred = clf.predict(df_cv)\n",
    "y_test_pred = clf.predict(df_test)"
   ]
  },
  {
   "cell_type": "code",
   "execution_count": 86,
   "metadata": {},
   "outputs": [
    {
     "name": "stdout",
     "output_type": "stream",
     "text": [
      "best lasso encemble score:\n",
      "Train_RMSLE: 0.25031581234320827\n",
      "CV_RMSLE:  0.4115492574529392\n"
     ]
    }
   ],
   "source": [
    "print(\"best lasso encemble score:\")\n",
    "print(\"Train_RMSLE:\",np.sqrt(mean_squared_error(y_train,y_train_pred)))\n",
    "print(\"CV_RMSLE: \",np.sqrt(mean_squared_error(y_cv,y_cv_pred)))\n"
   ]
  },
  {
   "cell_type": "markdown",
   "metadata": {},
   "source": [
    "Summary:\n",
    "1. We got cv RMSLE as 0.411 for alpha = 0.01, which is best so far."
   ]
  },
  {
   "cell_type": "markdown",
   "metadata": {
    "colab_type": "text",
    "id": "DNzmG7elB2Es"
   },
   "source": [
    "<h2> Another Encemble using mean of predictions </h2>"
   ]
  },
  {
   "cell_type": "code",
   "execution_count": 87,
   "metadata": {
    "colab": {},
    "colab_type": "code",
    "id": "rT6pKhGBB2Es",
    "outputId": "c8caeb63-b3c6-4205-b0f3-61e54d440851"
   },
   "outputs": [
    {
     "name": "stdout",
     "output_type": "stream",
     "text": [
      "(296333, 1)\n",
      "(296333,)\n",
      "(296333,)\n",
      "(296333, 1)\n"
     ]
    }
   ],
   "source": [
    "print(y_cv_mlp.shape)\n",
    "print(y_cv_ridge.shape)\n",
    "print(y_cv_lgb.shape)\n",
    "print(y_cv_mlp_b.shape)"
   ]
  },
  {
   "cell_type": "code",
   "execution_count": 88,
   "metadata": {
    "colab": {},
    "colab_type": "code",
    "id": "uHHV3YZ7B2Ew"
   },
   "outputs": [],
   "source": [
    "# Taking mean of predictions.\n",
    "\n",
    "y_cv_mean = np.mean([y_cv_mlp.reshape(-1,), y_cv_ridge, y_cv_lgb,y_cv_mlp_b.reshape(-1,)], axis = 0)\n",
    "y_train_mean = np.mean([y_train_mlp.reshape(-1,), y_train_ridge, y_train_lgb,y_train_mlp_b.reshape(-1,)], axis = 0)\n",
    "y_test_mean = np.mean([y_test_mlp.reshape(-1,), y_test_ridge, y_test_lgb,y_test_mlp_b.reshape(-1,)], axis = 0)"
   ]
  },
  {
   "cell_type": "code",
   "execution_count": 89,
   "metadata": {},
   "outputs": [
    {
     "name": "stdout",
     "output_type": "stream",
     "text": [
      "best mean encemble score:\n",
      "Train_RMSLE: 0.3101273838924053\n",
      "CV_RMSLE:  0.41327963410667523\n"
     ]
    }
   ],
   "source": [
    "print(\"best mean encemble score:\")\n",
    "print(\"Train_RMSLE:\",np.sqrt(mean_squared_error(y_train,y_train_mean)))\n",
    "print(\"CV_RMSLE: \",np.sqrt(mean_squared_error(y_cv,y_cv_mean)))\n"
   ]
  },
  {
   "cell_type": "markdown",
   "metadata": {},
   "source": [
    "Summary:\n",
    "1. Mean ensemble gives cv RMSLE as 0.412 which is better than any individual model but slightly less than lasso ensemble."
   ]
  },
  {
   "cell_type": "markdown",
   "metadata": {
    "colab_type": "text",
    "id": "xFUUlCogB2E7"
   },
   "source": [
    "<h2> PDF of True values and different model predictions </h2>"
   ]
  },
  {
   "cell_type": "code",
   "execution_count": 90,
   "metadata": {
    "colab": {},
    "colab_type": "code",
    "id": "xVu9GweQB2E7",
    "outputId": "082712f0-f579-4f19-d25b-361a7e42a8be"
   },
   "outputs": [
    {
     "data": {
      "image/png": "[encoded data removed]",
      "text/plain": [
       "<Figure size 1080x576 with 1 Axes>"
      ]
     },
     "metadata": {
      "needs_background": "light"
     },
     "output_type": "display_data"
    }
   ],
   "source": [
    "\n",
    "plt.figure(figsize=(15,8))\n",
    "sns.distplot(y_cv, hist = False, label = 'True values')\n",
    "sns.distplot(y_cv_mlp, hist = False, label = 'MLP')\n",
    "sns.distplot(y_cv_ridge, hist = False, label = 'ridge')\n",
    "sns.distplot(y_cv_lgb, hist = False, label = 'lgb')\n",
    "sns.distplot(y_cv_mlp_b, hist = False, label = 'MLP_bool')\n",
    "plt.xlabel('log1p')\n",
    "plt.ylabel('pdf')\n",
    "plt.title('Predictions vs True values')\n",
    "plt.show()"
   ]
  },
  {
   "cell_type": "code",
   "execution_count": 91,
   "metadata": {
    "colab": {},
    "colab_type": "code",
    "id": "VWMDb-T1B2FA",
    "outputId": "7c869912-35f1-4318-e733-3aaf0eb5c2b4"
   },
   "outputs": [
    {
     "data": {
      "image/png": "[encoded data removed]",
      "text/plain": [
       "<Figure size 1080x576 with 1 Axes>"
      ]
     },
     "metadata": {
      "needs_background": "light"
     },
     "output_type": "display_data"
    }
   ],
   "source": [
    "\n",
    "plt.figure(figsize=(15,8))\n",
    "sns.distplot(y_cv, hist = False, label = 'True values')\n",
    "sns.distplot(y_cv_pred, hist = False, label = 'lasso_encemble')\n",
    "sns.distplot(y_cv_mean, hist = False, label = 'mean_encemble')\n",
    "plt.xlabel('log1p')\n",
    "plt.ylabel('pdf')\n",
    "plt.title('Predictions vs True values')\n",
    "plt.show()"
   ]
  },
  {
   "cell_type": "markdown",
   "metadata": {},
   "source": [
    "Summary:\n",
    "1. From graph we can say that lasso ensemble is doing better than mean ensemble, same is reflected in cv RMSLE score."
   ]
  },
  {
   "cell_type": "markdown",
   "metadata": {
    "colab_type": "text",
    "id": "teE3HhmeB2FD"
   },
   "source": [
    "<h2> Performance of all the models</h2>"
   ]
  },
  {
   "cell_type": "code",
   "execution_count": 92,
   "metadata": {
    "colab": {},
    "colab_type": "code",
    "id": "exesXFPVB2FE",
    "outputId": "43b95f7a-1044-470c-f79b-38c5518169d2"
   },
   "outputs": [
    {
     "name": "stdout",
     "output_type": "stream",
     "text": [
      "+------------------+---------------+---------------------+---------------------+\n",
      "|      Model       | Vectorization |     Train_RMSLE     |       CV_RMSLE      |\n",
      "+------------------+---------------+---------------------+---------------------+\n",
      "| Ridge Regression |     TFIDF     | 0.42068412548047696 |  0.4616831502162845 |\n",
      "|     LightGBM     |     TFIDF     | 0.42328128949916954 |  0.4661464510424681 |\n",
      "|       MLP        |     TFIDF     | 0.28977242660267283 |  0.4269801874128806 |\n",
      "|      MLP_b       |      bool     |  0.2692907290058947 | 0.43317586145336007 |\n",
      "|  lasso_Encemble  |      ALL      | 0.25031581234320827 |  0.4115492574529392 |\n",
      "|  Mean_Encemble   |      ALL      |  0.3101273838924053 | 0.41327963410667523 |\n",
      "+------------------+---------------+---------------------+---------------------+\n"
     ]
    }
   ],
   "source": [
    "# Printing info about the features.\n",
    "# code borrowed from below site\n",
    "# http://zetcode.com/python/prettytable/ \n",
    "\n",
    "from prettytable import PrettyTable \n",
    "x = PrettyTable() \n",
    "x.field_names = [\"Model\",\"Vectorization\", \"Train_RMSLE\",\"CV_RMSLE\"] \n",
    "\n",
    "x.add_row(['Ridge Regression', 'TFIDF', np.sqrt(mean_squared_error(y_train,y_train_ridge)),np.sqrt(mean_squared_error(y_cv,y_cv_ridge))])\n",
    "x.add_row(['LightGBM', 'TFIDF', np.sqrt(mean_squared_error(y_train,y_train_lgb)),np.sqrt(mean_squared_error(y_cv,y_cv_lgb))])\n",
    "x.add_row(['MLP', 'TFIDF',np.sqrt(mean_squared_error(y_train,y_train_mlp)),np.sqrt(mean_squared_error(y_cv,y_cv_mlp))])\n",
    "x.add_row(['MLP_b', 'bool',np.sqrt(mean_squared_error(y_train,y_train_mlp_b)),np.sqrt(mean_squared_error(y_cv,y_cv_mlp_b))])\n",
    "x.add_row(['lasso_Encemble', 'ALL',np.sqrt(mean_squared_error(y_train,y_train_pred)),np.sqrt(mean_squared_error(y_cv,y_cv_pred))])\n",
    "x.add_row(['Mean_Encemble', 'ALL',np.sqrt(mean_squared_error(y_train,y_train_mean)),np.sqrt(mean_squared_error(y_cv,y_cv_mean))])\n",
    "\n",
    "\n",
    "        \n",
    "print(x)"
   ]
  },
  {
   "cell_type": "markdown",
   "metadata": {},
   "source": [
    "<h2> Using Lasso Ensemble for final submission </h2>"
   ]
  },
  {
   "cell_type": "code",
   "execution_count": 122,
   "metadata": {},
   "outputs": [
    {
     "name": "stderr",
     "output_type": "stream",
     "text": [
      "/opt/conda/lib/python3.7/site-packages/ipykernel_launcher.py:3: SettingWithCopyWarning: \n",
      "A value is trying to be set on a copy of a slice from a DataFrame.\n",
      "Try using .loc[row_indexer,col_indexer] = value instead\n",
      "\n",
      "See the caveats in the documentation: https://pandas.pydata.org/pandas-docs/stable/user_guide/indexing.html#returning-a-view-versus-a-copy\n",
      "  This is separate from the ipykernel package so we can avoid doing imports until\n"
     ]
    }
   ],
   "source": [
    "\n",
    "submission = test[['test_id']]\n",
    "preds_final = np.expm1(y_test_pred)\n",
    "submission['price'] = preds_final\n",
    "submission.to_csv('submission.csv', index=False)"
   ]
  },
  {
   "cell_type": "code",
   "execution_count": 123,
   "metadata": {},
   "outputs": [
    {
     "data": {
      "text/html": [
       "<div>\n",
       "<style scoped>\n",
       "    .dataframe tbody tr th:only-of-type {\n",
       "        vertical-align: middle;\n",
       "    }\n",
       "\n",
       "    .dataframe tbody tr th {\n",
       "        vertical-align: top;\n",
       "    }\n",
       "\n",
       "    .dataframe thead th {\n",
       "        text-align: right;\n",
       "    }\n",
       "</style>\n",
       "<table border=\"1\" class=\"dataframe\">\n",
       "  <thead>\n",
       "    <tr style=\"text-align: right;\">\n",
       "      <th></th>\n",
       "      <th>test_id</th>\n",
       "      <th>price</th>\n",
       "    </tr>\n",
       "  </thead>\n",
       "  <tbody>\n",
       "    <tr>\n",
       "      <th>0</th>\n",
       "      <td>0</td>\n",
       "      <td>6.703347</td>\n",
       "    </tr>\n",
       "    <tr>\n",
       "      <th>1</th>\n",
       "      <td>1</td>\n",
       "      <td>11.312233</td>\n",
       "    </tr>\n",
       "    <tr>\n",
       "      <th>2</th>\n",
       "      <td>2</td>\n",
       "      <td>67.247777</td>\n",
       "    </tr>\n",
       "    <tr>\n",
       "      <th>3</th>\n",
       "      <td>3</td>\n",
       "      <td>13.915406</td>\n",
       "    </tr>\n",
       "    <tr>\n",
       "      <th>4</th>\n",
       "      <td>4</td>\n",
       "      <td>7.955520</td>\n",
       "    </tr>\n",
       "    <tr>\n",
       "      <th>...</th>\n",
       "      <td>...</td>\n",
       "      <td>...</td>\n",
       "    </tr>\n",
       "    <tr>\n",
       "      <th>3460720</th>\n",
       "      <td>3460720</td>\n",
       "      <td>6.264978</td>\n",
       "    </tr>\n",
       "    <tr>\n",
       "      <th>3460721</th>\n",
       "      <td>3460721</td>\n",
       "      <td>38.781767</td>\n",
       "    </tr>\n",
       "    <tr>\n",
       "      <th>3460722</th>\n",
       "      <td>3460722</td>\n",
       "      <td>14.562746</td>\n",
       "    </tr>\n",
       "    <tr>\n",
       "      <th>3460723</th>\n",
       "      <td>3460723</td>\n",
       "      <td>19.800032</td>\n",
       "    </tr>\n",
       "    <tr>\n",
       "      <th>3460724</th>\n",
       "      <td>3460724</td>\n",
       "      <td>18.720844</td>\n",
       "    </tr>\n",
       "  </tbody>\n",
       "</table>\n",
       "<p>3460725 rows × 2 columns</p>\n",
       "</div>"
      ],
      "text/plain": [
       "         test_id      price\n",
       "0              0   6.703347\n",
       "1              1  11.312233\n",
       "2              2  67.247777\n",
       "3              3  13.915406\n",
       "4              4   7.955520\n",
       "...          ...        ...\n",
       "3460720  3460720   6.264978\n",
       "3460721  3460721  38.781767\n",
       "3460722  3460722  14.562746\n",
       "3460723  3460723  19.800032\n",
       "3460724  3460724  18.720844\n",
       "\n",
       "[3460725 rows x 2 columns]"
      ]
     },
     "execution_count": 123,
     "metadata": {},
     "output_type": "execute_result"
    }
   ],
   "source": [
    "result = pd.read_csv('submission.csv')\n",
    "result"
   ]
  },
  {
   "cell_type": "markdown",
   "metadata": {},
   "source": [
    "<h2> Final Submission score using lasso ensemble </h2>"
   ]
  },
  {
   "cell_type": "code",
   "execution_count": 1,
   "metadata": {},
   "outputs": [
    {
     "data": {
      "image/png": "[encoded data removed]",
      "text/plain": [
       "<IPython.core.display.Image object>"
      ]
     },
     "execution_count": 1,
     "metadata": {},
     "output_type": "execute_result"
    }
   ],
   "source": [
    "# https://stackoverflow.com/questions/11854847/how-can-i-display-an-image-from-a-file-in-jupyter-notebook#:~:text=When%20using%20GenomeDiagram%20with%20Jupyter,it%20display%20in%20the%20notebook.\n",
    "\n",
    "from IPython.display import Image\n",
    "\n",
    "Image(filename =r'C:\\Users\\Bharath\\Downloads\\mercari_hash_lasso.png')"
   ]
  },
  {
   "cell_type": "markdown",
   "metadata": {},
   "source": [
    "<h2> Predict Price of a Product </h2>"
   ]
  },
  {
   "cell_type": "code",
   "execution_count": 183,
   "metadata": {},
   "outputs": [],
   "source": [
    "# https://stackoverflow.com/questions/20625582/how-to-deal-with-settingwithcopywarning-in-pandas\n",
    "pd.options.mode.chained_assignment = None  # to ignore warnings\n",
    "def predict_price(x):\n",
    "    \"\"\"predict_price takes a single data point as input, applies all transformations on it and returns predicted price \"\"\"\n",
    "    \n",
    "    if(len(x.shape)==1):\n",
    "        # data cleaning\n",
    "        if(x['category_name']!=x['category_name']):\n",
    "            x['category_name'] = 'none/none/none'\n",
    "        if(x['brand_name']!=x['brand_name']):\n",
    "            x['brand_name'] = 'blank'\n",
    "        if(x['item_description']!=x['item_description']):\n",
    "            x['item_description'] = 'No description yet'\n",
    "\n",
    "        # preprocessing\n",
    "        sent = x['item_description']\n",
    "        sent = decontracted(sent)    \n",
    "        sent = sent.replace('\\\\r', ' ')    \n",
    "        sent = sent.replace('\\\\\"', ' ')    \n",
    "        sent = sent.replace('\\\\n', ' ')    \n",
    "        sent = re.sub('[^A-Za-z0-9]+', ' ', sent)      \n",
    "        sent = ' '.join(e for e in sent.split() if e.lower() not in stopwords)\n",
    "        x['item_description'] = sent.lower().strip()\n",
    "\n",
    "        # feature engineering\n",
    "        x['length'] = len(x['item_description'])\n",
    "        x['subjectivity'] = TextBlob(x['item_description']).sentiment.subjectivity\n",
    "        x['has_description'] = np.where(x['item_description'] == 'description yet', 0, 1)\n",
    "        x['has_brand'] = np.where(x['brand_name'] == 'blank', 0, 1)\n",
    "        x['has_category'] = np.where(x['category_name'] == 'none/none/none', 0, 1)\n",
    "        x['no_missing'] = x['has_description'] & x['has_brand'] & x['has_category']\n",
    "        x['name_length'] = len(x['name'])\n",
    "        x['name_brand'] = x['name'] + \" \" + x['brand_name']\n",
    "        x['text'] = x['item_description'] + \" \" + x['name'] + \" \" + x['category_name']\n",
    "    \n",
    "        # vectorization\n",
    "        name_brand = vectorizer1.transform([x['name_brand']])\n",
    "        text = vectorizer2.transform([x['text']])\n",
    "        item_condition = scaler_item.transform(x['item_condition_id'].reshape(-1,1))\n",
    "        shipping = x['shipping'].reshape(-1,1)\n",
    "        length = scaler_len.transform(np.array(x['length']).reshape(1,-1))\n",
    "        name_length = scaler_name.transform(np.array(x['name_length']).reshape(1,-1))\n",
    "        subjectivity = scaler_sub.transform(np.array(x['subjectivity']).reshape(1,-1))\n",
    "        no_missing = x['no_missing']\n",
    "\n",
    "        # transformed datapoint\n",
    "        x_point = hstack([name_brand, text, item_condition,shipping, length,name_length, subjectivity,no_missing ]).tocsr()\n",
    "        \n",
    "\n",
    "        # individual model predictions\n",
    "        result1 = clf_ridge.predict(x_point)\n",
    "        result2 = clf_lgb.predict(x_point)\n",
    "        result3 = model_mlp.predict(x_point)\n",
    "        result4 = model_mlp_b.predict(x_point)\n",
    "\n",
    "        base_predictions = np.array([result1,result2,result3[0],result4[0]]).reshape(1,-1)\n",
    "\n",
    "        # final model predictions\n",
    "        final = clf.predict(base_predictions)[0]\n",
    "        return np.expm1(final)\n",
    "    else:\n",
    "        # data cleaning\n",
    "        x['category_name'].fillna('none/none/none', inplace = True)\n",
    "        x['brand_name'].fillna('blank', inplace = True)\n",
    "        x['item_description'].fillna('No description yet', inplace = True)\n",
    "\n",
    "        # preprocessing\n",
    "        preprocessed_description = [] \n",
    "        # tqdm is for printing the status bar \n",
    "        for sentance in (x['item_description'].values):    \n",
    "            sent = decontracted(sentance)    \n",
    "            sent = sent.replace('\\\\r', ' ')    \n",
    "            sent = sent.replace('\\\\\"', ' ')    \n",
    "            sent = sent.replace('\\\\n', ' ')    \n",
    "            sent = re.sub('[^A-Za-z0-9]+', ' ', sent)      \n",
    "            sent = ' '.join(e for e in sent.split() if e.lower() not in stopwords)\n",
    "            preprocessed_description.append(sent.lower().strip())\n",
    "        x['item_description'] = preprocessed_description\n",
    "        \n",
    "\n",
    "        # feature engineering\n",
    "        x['length'] = x['item_description'].apply(len)\n",
    "        x['subjectivity'] = x['item_description'].apply(lambda word: TextBlob(word).sentiment.subjectivity)\n",
    "        x['has_description'] = np.where(x['item_description'] == 'description yet', 0, 1)\n",
    "        x['has_brand'] = np.where(x['brand_name'] == 'blank', 0, 1)\n",
    "        x['has_category'] = np.where(x['category_name'] == 'none/none/none', 0, 1)\n",
    "        x['no_missing'] = x['has_description'] & x['has_brand'] & x['has_category']\n",
    "        x['name_length'] = x['name'].apply(len)\n",
    "        x['name_brand'] = x['name'] + \" \" + x['brand_name']\n",
    "        x['text'] = x['item_description'] + \" \" + x['name'] + \" \" + x['category_name']\n",
    "\n",
    "        \n",
    "        # vectorization\n",
    "        name_brand = vectorizer1.transform(x['name_brand'])\n",
    "        text = vectorizer2.transform(x['text'])\n",
    "        item_condition = scaler_item.transform(x['item_condition_id'].values.reshape(-1,1))\n",
    "        shipping = x['shipping'].values.reshape(-1,1)\n",
    "        length = scaler_len.transform(x['length'].values.reshape(-1,1))\n",
    "        name_length = scaler_name.transform(x['name_length'].values.reshape(-1,1))\n",
    "        subjectivity = scaler_sub.transform(x['subjectivity'].values.reshape(-1,1))\n",
    "        no_missing = x['no_missing'].values.reshape(-1,1)\n",
    "\n",
    "        # transformed datapoints\n",
    "        x_point = hstack([name_brand, text, item_condition,shipping, length,name_length, subjectivity,no_missing ]).tocsr()\n",
    "    \n",
    "        # individual model predictions\n",
    "        result1 = clf_ridge.predict(x_point)\n",
    "        result2 = clf_lgb.predict(x_point)\n",
    "        result3 = model_mlp.predict(x_point)\n",
    "        result4 = model_mlp_b.predict(x_point)\n",
    "\n",
    "        base_predictions = pd.DataFrame(zip(result1,result2,result3,result4))\n",
    "\n",
    "        # final model predictions\n",
    "        final = clf.predict(base_predictions)\n",
    "        return np.expm1(final)\n",
    "        \n",
    "    "
   ]
  },
  {
   "cell_type": "markdown",
   "metadata": {},
   "source": [
    "<h2> What is the error on prediction? </h2>"
   ]
  },
  {
   "cell_type": "code",
   "execution_count": 164,
   "metadata": {},
   "outputs": [],
   "source": [
    "def predict_score(x,y):\n",
    "    \"\"\"Predict_score product details and actual price of the product and returns the RMSLE error of the predicted price\"\"\"\n",
    "    if(len(x.shape)==1):\n",
    "        y_predict = predict_price(x)\n",
    "        y = np.log1p(y)\n",
    "        y_predict = np.log1p(y_predict)\n",
    "        return np.sqrt(mean_squared_error([y],[y_predict]))\n",
    "    else:\n",
    "        y_predict = predict_price(x)\n",
    "        y = np.log1p(y)\n",
    "        y_predict = np.log1p(y_predict)\n",
    "        result = []\n",
    "        for a,b in zip(y,y_predict):\n",
    "            result.append(np.sqrt(mean_squared_error([a],[b])))\n",
    "        return result"
   ]
  },
  {
   "cell_type": "code",
   "execution_count": 148,
   "metadata": {},
   "outputs": [
    {
     "name": "stdout",
     "output_type": "stream",
     "text": [
      "select a product id between 0 to  1482535\n"
     ]
    }
   ],
   "source": [
    "product_data = pd.read_csv('train.tsv', sep = '\\t',)\n",
    "product_data = product_data.drop(['train_id'], axis = 1)\n",
    "\n",
    "print(\"select a product id between 0 to \", product_data.shape[0])"
   ]
  },
  {
   "cell_type": "code",
   "execution_count": 194,
   "metadata": {},
   "outputs": [
    {
     "name": "stdout",
     "output_type": "stream",
     "text": [
      "calculating suggested price and RMSLE for the product with id: 13\n"
     ]
    },
    {
     "data": {
      "text/html": [
       "<div>\n",
       "<style scoped>\n",
       "    .dataframe tbody tr th:only-of-type {\n",
       "        vertical-align: middle;\n",
       "    }\n",
       "\n",
       "    .dataframe tbody tr th {\n",
       "        vertical-align: top;\n",
       "    }\n",
       "\n",
       "    .dataframe thead th {\n",
       "        text-align: right;\n",
       "    }\n",
       "</style>\n",
       "<table border=\"1\" class=\"dataframe\">\n",
       "  <thead>\n",
       "    <tr style=\"text-align: right;\">\n",
       "      <th></th>\n",
       "      <th>name</th>\n",
       "      <th>item_condition_id</th>\n",
       "      <th>category_name</th>\n",
       "      <th>brand_name</th>\n",
       "      <th>price</th>\n",
       "      <th>shipping</th>\n",
       "      <th>item_description</th>\n",
       "      <th>suggested_price</th>\n",
       "      <th>RMSLE</th>\n",
       "    </tr>\n",
       "  </thead>\n",
       "  <tbody>\n",
       "    <tr>\n",
       "      <th>13</th>\n",
       "      <td>Sharpener and eraser</td>\n",
       "      <td>1</td>\n",
       "      <td>Other/Office supplies/School Supplies</td>\n",
       "      <td>Scholastic</td>\n",
       "      <td>4</td>\n",
       "      <td>1</td>\n",
       "      <td>No description yet</td>\n",
       "      <td>3.60649</td>\n",
       "      <td>0.0819723</td>\n",
       "    </tr>\n",
       "  </tbody>\n",
       "</table>\n",
       "</div>"
      ],
      "text/plain": [
       "                    name item_condition_id  \\\n",
       "13  Sharpener and eraser                 1   \n",
       "\n",
       "                            category_name  brand_name price shipping  \\\n",
       "13  Other/Office supplies/School Supplies  Scholastic     4        1   \n",
       "\n",
       "      item_description suggested_price      RMSLE  \n",
       "13  No description yet         3.60649  0.0819723  "
      ]
     },
     "execution_count": 194,
     "metadata": {},
     "output_type": "execute_result"
    }
   ],
   "source": [
    "# select a product id\n",
    "\n",
    "product_id = 13\n",
    "\n",
    "print(\"calculating suggested price and RMSLE for the product with id:\",product_id)\n",
    "min_df = product_data.iloc[product_id]\n",
    "min_df['suggested_price'] = predict_price(product_data.iloc[product_id])\n",
    "min_df['RMSLE'] = predict_score(product_data.iloc[product_id],product_data.iloc[product_id]['price'])\n",
    "min_df.to_frame().T"
   ]
  },
  {
   "cell_type": "code",
   "execution_count": 185,
   "metadata": {},
   "outputs": [
    {
     "name": "stdout",
     "output_type": "stream",
     "text": [
      " or select multitple ids between 0 to 1482535\n"
     ]
    }
   ],
   "source": [
    "print(\" or select multitple ids between 0 to\",product_data.shape[0])"
   ]
  },
  {
   "cell_type": "code",
   "execution_count": 186,
   "metadata": {},
   "outputs": [
    {
     "name": "stdout",
     "output_type": "stream",
     "text": [
      "calculating price for the products with ids: [13, 102, 1111, 12111]\n"
     ]
    },
    {
     "data": {
      "text/html": [
       "<div>\n",
       "<style scoped>\n",
       "    .dataframe tbody tr th:only-of-type {\n",
       "        vertical-align: middle;\n",
       "    }\n",
       "\n",
       "    .dataframe tbody tr th {\n",
       "        vertical-align: top;\n",
       "    }\n",
       "\n",
       "    .dataframe thead th {\n",
       "        text-align: right;\n",
       "    }\n",
       "</style>\n",
       "<table border=\"1\" class=\"dataframe\">\n",
       "  <thead>\n",
       "    <tr style=\"text-align: right;\">\n",
       "      <th></th>\n",
       "      <th>name</th>\n",
       "      <th>item_condition_id</th>\n",
       "      <th>category_name</th>\n",
       "      <th>brand_name</th>\n",
       "      <th>price</th>\n",
       "      <th>shipping</th>\n",
       "      <th>item_description</th>\n",
       "      <th>suggested_price</th>\n",
       "      <th>RMSLE</th>\n",
       "    </tr>\n",
       "  </thead>\n",
       "  <tbody>\n",
       "    <tr>\n",
       "      <th>13</th>\n",
       "      <td>Sharpener and eraser</td>\n",
       "      <td>1</td>\n",
       "      <td>Other/Office supplies/School Supplies</td>\n",
       "      <td>Scholastic</td>\n",
       "      <td>4.0</td>\n",
       "      <td>1</td>\n",
       "      <td>No description yet</td>\n",
       "      <td>3.606487</td>\n",
       "      <td>0.081972</td>\n",
       "    </tr>\n",
       "    <tr>\n",
       "      <th>102</th>\n",
       "      <td>Black Boho Floral Embroidered Maxi Dress</td>\n",
       "      <td>2</td>\n",
       "      <td>Women/Dresses/Knee-Length</td>\n",
       "      <td>NaN</td>\n",
       "      <td>29.0</td>\n",
       "      <td>0</td>\n",
       "      <td>Size medium in perfect condition</td>\n",
       "      <td>14.590790</td>\n",
       "      <td>0.654517</td>\n",
       "    </tr>\n",
       "    <tr>\n",
       "      <th>1111</th>\n",
       "      <td>Men's Nike 6-pair Dri-Fit BLK socks 8-12</td>\n",
       "      <td>1</td>\n",
       "      <td>Men/Athletic Apparel/Socks</td>\n",
       "      <td>Nike</td>\n",
       "      <td>25.0</td>\n",
       "      <td>0</td>\n",
       "      <td>Black Crew Socks</td>\n",
       "      <td>10.993940</td>\n",
       "      <td>0.773695</td>\n",
       "    </tr>\n",
       "    <tr>\n",
       "      <th>12111</th>\n",
       "      <td>LF First of a Kind Vintage Bodysuit</td>\n",
       "      <td>1</td>\n",
       "      <td>Women/Swimwear/One-Piece</td>\n",
       "      <td>LF</td>\n",
       "      <td>71.0</td>\n",
       "      <td>0</td>\n",
       "      <td>Brand new with tags</td>\n",
       "      <td>14.638239</td>\n",
       "      <td>1.526947</td>\n",
       "    </tr>\n",
       "  </tbody>\n",
       "</table>\n",
       "</div>"
      ],
      "text/plain": [
       "                                           name  item_condition_id  \\\n",
       "13                         Sharpener and eraser                  1   \n",
       "102    Black Boho Floral Embroidered Maxi Dress                  2   \n",
       "1111   Men's Nike 6-pair Dri-Fit BLK socks 8-12                  1   \n",
       "12111       LF First of a Kind Vintage Bodysuit                  1   \n",
       "\n",
       "                               category_name  brand_name  price  shipping  \\\n",
       "13     Other/Office supplies/School Supplies  Scholastic    4.0         1   \n",
       "102                Women/Dresses/Knee-Length         NaN   29.0         0   \n",
       "1111              Men/Athletic Apparel/Socks        Nike   25.0         0   \n",
       "12111               Women/Swimwear/One-Piece          LF   71.0         0   \n",
       "\n",
       "                       item_description  suggested_price     RMSLE  \n",
       "13                   No description yet         3.606487  0.081972  \n",
       "102    Size medium in perfect condition        14.590790  0.654517  \n",
       "1111                   Black Crew Socks        10.993940  0.773695  \n",
       "12111               Brand new with tags        14.638239  1.526947  "
      ]
     },
     "execution_count": 186,
     "metadata": {},
     "output_type": "execute_result"
    }
   ],
   "source": [
    "# select multiple product ids\n",
    "\n",
    "product_ids = [13, 102,1111,12111]\n",
    "\n",
    "print(\"calculating suggested price and RMSLE for the products with ids:\", product_ids)\n",
    "\n",
    "min_df = product_data.iloc[product_ids]\n",
    "\n",
    "min_df['suggested_price'] = predict_price(product_data.iloc[product_ids])\n",
    "\n",
    "min_df['RMSLE'] = predict_score(product_data.iloc[product_ids],product_data.iloc[product_ids]['price'])\n",
    "min_df\n"
   ]
  },
  {
   "cell_type": "markdown",
   "metadata": {
    "colab_type": "text",
    "id": "J9N0dda8B2FI"
   },
   "source": [
    "**Conclusions:**\n",
    "\n",
    "1. Features like has number, number in item description aren't that useful.\n",
    "2. gc.collect() helped in freeing up memory and avoid crashing during execution.\n",
    "3. Using features like length of name, length of description, missing values, subjectivity of item description improved the score.\n",
    "4. Used Hashing Vectorizer for the text data.\n",
    "5. Training same MLP on new dataset creating by applying np.bool is helpful.\n",
    "6. Used Lasso regression to get weights for the ensemble in the end.\n",
    "7. Also used simple mean ensemble."
   ]
  }
 ],
 "metadata": {
  "colab": {
   "name": "mercari_tuning_test.ipynb",
   "provenance": []
  },
  "environment": {
   "name": "common-cu101.m54",
   "type": "gcloud",
   "uri": "gcr.io/deeplearning-platform-release/base-cu101:m54"
  },
  "kernelspec": {
   "display_name": "Python 3",
   "language": "python",
   "name": "python3"
  },
  "language_info": {
   "codemirror_mode": {
    "name": "ipython",
    "version": 3
   },
   "file_extension": ".py",
   "mimetype": "text/x-python",
   "name": "python",
   "nbconvert_exporter": "python",
   "pygments_lexer": "ipython3",
   "version": "3.7.4"
  }
 },
 "nbformat": 4,
 "nbformat_minor": 4
}
